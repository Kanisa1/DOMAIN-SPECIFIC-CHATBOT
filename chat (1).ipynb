{
 "cells": [
  {
   "cell_type": "markdown",
   "metadata": {
    "id": "5AhpGquuZ_hK"
   },
   "source": [
    "## Project Overview\n",
    "MediBot Africa is a domain-specific healthcare chatbot designed to provide medical information and guidance. This implementation fine-tunes a transformer model on African healthcare data."
   ]
  },
  {
   "cell_type": "code",
   "execution_count": 1,
   "metadata": {
    "colab": {
     "base_uri": "https://localhost:8080/"
    },
    "executionInfo": {
     "elapsed": 20595,
     "status": "ok",
     "timestamp": 1761651334649,
     "user": {
      "displayName": "Kanisa Thiak",
      "userId": "11456701695554532163"
     },
     "user_tz": -120
    },
    "id": "YeDWyQUjZjMH",
    "outputId": "5c52e83c-fcc5-44ee-c6be-72f312fd562e"
   },
   "outputs": [
    {
     "name": "stdout",
     "output_type": "stream",
     "text": [
      "Requirement already satisfied: transformers in /usr/local/lib/python3.12/dist-packages (4.57.1)\n",
      "Requirement already satisfied: torch in /usr/local/lib/python3.12/dist-packages (2.8.0+cu126)\n",
      "Requirement already satisfied: tensorflow in /usr/local/lib/python3.12/dist-packages (2.19.0)\n",
      "Requirement already satisfied: datasets in /usr/local/lib/python3.12/dist-packages (4.0.0)\n",
      "Collecting evaluate\n",
      "  Downloading evaluate-0.4.6-py3-none-any.whl.metadata (9.5 kB)\n",
      "Collecting rouge-score\n",
      "  Downloading rouge_score-0.1.2.tar.gz (17 kB)\n",
      "  Preparing metadata (setup.py) ... \u001b[?25l\u001b[?25hdone\n",
      "Requirement already satisfied: filelock in /usr/local/lib/python3.12/dist-packages (from transformers) (3.20.0)\n",
      "Requirement already satisfied: huggingface-hub<1.0,>=0.34.0 in /usr/local/lib/python3.12/dist-packages (from transformers) (0.35.3)\n",
      "Requirement already satisfied: numpy>=1.17 in /usr/local/lib/python3.12/dist-packages (from transformers) (2.0.2)\n",
      "Requirement already satisfied: packaging>=20.0 in /usr/local/lib/python3.12/dist-packages (from transformers) (25.0)\n",
      "Requirement already satisfied: pyyaml>=5.1 in /usr/local/lib/python3.12/dist-packages (from transformers) (6.0.3)\n",
      "Requirement already satisfied: regex!=2019.12.17 in /usr/local/lib/python3.12/dist-packages (from transformers) (2024.11.6)\n",
      "Requirement already satisfied: requests in /usr/local/lib/python3.12/dist-packages (from transformers) (2.32.4)\n",
      "Requirement already satisfied: tokenizers<=0.23.0,>=0.22.0 in /usr/local/lib/python3.12/dist-packages (from transformers) (0.22.1)\n",
      "Requirement already satisfied: safetensors>=0.4.3 in /usr/local/lib/python3.12/dist-packages (from transformers) (0.6.2)\n",
      "Requirement already satisfied: tqdm>=4.27 in /usr/local/lib/python3.12/dist-packages (from transformers) (4.67.1)\n",
      "Requirement already satisfied: typing-extensions>=4.10.0 in /usr/local/lib/python3.12/dist-packages (from torch) (4.15.0)\n",
      "Requirement already satisfied: setuptools in /usr/local/lib/python3.12/dist-packages (from torch) (75.2.0)\n",
      "Requirement already satisfied: sympy>=1.13.3 in /usr/local/lib/python3.12/dist-packages (from torch) (1.13.3)\n",
      "Requirement already satisfied: networkx in /usr/local/lib/python3.12/dist-packages (from torch) (3.5)\n",
      "Requirement already satisfied: jinja2 in /usr/local/lib/python3.12/dist-packages (from torch) (3.1.6)\n",
      "Requirement already satisfied: fsspec in /usr/local/lib/python3.12/dist-packages (from torch) (2025.3.0)\n",
      "Requirement already satisfied: nvidia-cuda-nvrtc-cu12==12.6.77 in /usr/local/lib/python3.12/dist-packages (from torch) (12.6.77)\n",
      "Requirement already satisfied: nvidia-cuda-runtime-cu12==12.6.77 in /usr/local/lib/python3.12/dist-packages (from torch) (12.6.77)\n",
      "Requirement already satisfied: nvidia-cuda-cupti-cu12==12.6.80 in /usr/local/lib/python3.12/dist-packages (from torch) (12.6.80)\n",
      "Requirement already satisfied: nvidia-cudnn-cu12==9.10.2.21 in /usr/local/lib/python3.12/dist-packages (from torch) (9.10.2.21)\n",
      "Requirement already satisfied: nvidia-cublas-cu12==12.6.4.1 in /usr/local/lib/python3.12/dist-packages (from torch) (12.6.4.1)\n",
      "Requirement already satisfied: nvidia-cufft-cu12==11.3.0.4 in /usr/local/lib/python3.12/dist-packages (from torch) (11.3.0.4)\n",
      "Requirement already satisfied: nvidia-curand-cu12==10.3.7.77 in /usr/local/lib/python3.12/dist-packages (from torch) (10.3.7.77)\n",
      "Requirement already satisfied: nvidia-cusolver-cu12==11.7.1.2 in /usr/local/lib/python3.12/dist-packages (from torch) (11.7.1.2)\n",
      "Requirement already satisfied: nvidia-cusparse-cu12==12.5.4.2 in /usr/local/lib/python3.12/dist-packages (from torch) (12.5.4.2)\n",
      "Requirement already satisfied: nvidia-cusparselt-cu12==0.7.1 in /usr/local/lib/python3.12/dist-packages (from torch) (0.7.1)\n",
      "Requirement already satisfied: nvidia-nccl-cu12==2.27.3 in /usr/local/lib/python3.12/dist-packages (from torch) (2.27.3)\n",
      "Requirement already satisfied: nvidia-nvtx-cu12==12.6.77 in /usr/local/lib/python3.12/dist-packages (from torch) (12.6.77)\n",
      "Requirement already satisfied: nvidia-nvjitlink-cu12==12.6.85 in /usr/local/lib/python3.12/dist-packages (from torch) (12.6.85)\n",
      "Requirement already satisfied: nvidia-cufile-cu12==1.11.1.6 in /usr/local/lib/python3.12/dist-packages (from torch) (1.11.1.6)\n",
      "Requirement already satisfied: triton==3.4.0 in /usr/local/lib/python3.12/dist-packages (from torch) (3.4.0)\n",
      "Requirement already satisfied: absl-py>=1.0.0 in /usr/local/lib/python3.12/dist-packages (from tensorflow) (1.4.0)\n",
      "Requirement already satisfied: astunparse>=1.6.0 in /usr/local/lib/python3.12/dist-packages (from tensorflow) (1.6.3)\n",
      "Requirement already satisfied: flatbuffers>=24.3.25 in /usr/local/lib/python3.12/dist-packages (from tensorflow) (25.9.23)\n",
      "Requirement already satisfied: gast!=0.5.0,!=0.5.1,!=0.5.2,>=0.2.1 in /usr/local/lib/python3.12/dist-packages (from tensorflow) (0.6.0)\n",
      "Requirement already satisfied: google-pasta>=0.1.1 in /usr/local/lib/python3.12/dist-packages (from tensorflow) (0.2.0)\n",
      "Requirement already satisfied: libclang>=13.0.0 in /usr/local/lib/python3.12/dist-packages (from tensorflow) (18.1.1)\n",
      "Requirement already satisfied: opt-einsum>=2.3.2 in /usr/local/lib/python3.12/dist-packages (from tensorflow) (3.4.0)\n",
      "Requirement already satisfied: protobuf!=4.21.0,!=4.21.1,!=4.21.2,!=4.21.3,!=4.21.4,!=4.21.5,<6.0.0dev,>=3.20.3 in /usr/local/lib/python3.12/dist-packages (from tensorflow) (5.29.5)\n",
      "Requirement already satisfied: six>=1.12.0 in /usr/local/lib/python3.12/dist-packages (from tensorflow) (1.17.0)\n",
      "Requirement already satisfied: termcolor>=1.1.0 in /usr/local/lib/python3.12/dist-packages (from tensorflow) (3.1.0)\n",
      "Requirement already satisfied: wrapt>=1.11.0 in /usr/local/lib/python3.12/dist-packages (from tensorflow) (2.0.0)\n",
      "Requirement already satisfied: grpcio<2.0,>=1.24.3 in /usr/local/lib/python3.12/dist-packages (from tensorflow) (1.75.1)\n",
      "Requirement already satisfied: tensorboard~=2.19.0 in /usr/local/lib/python3.12/dist-packages (from tensorflow) (2.19.0)\n",
      "Requirement already satisfied: keras>=3.5.0 in /usr/local/lib/python3.12/dist-packages (from tensorflow) (3.10.0)\n",
      "Requirement already satisfied: h5py>=3.11.0 in /usr/local/lib/python3.12/dist-packages (from tensorflow) (3.15.1)\n",
      "Requirement already satisfied: ml-dtypes<1.0.0,>=0.5.1 in /usr/local/lib/python3.12/dist-packages (from tensorflow) (0.5.3)\n",
      "Requirement already satisfied: pyarrow>=15.0.0 in /usr/local/lib/python3.12/dist-packages (from datasets) (18.1.0)\n",
      "Requirement already satisfied: dill<0.3.9,>=0.3.0 in /usr/local/lib/python3.12/dist-packages (from datasets) (0.3.8)\n",
      "Requirement already satisfied: pandas in /usr/local/lib/python3.12/dist-packages (from datasets) (2.2.2)\n",
      "Requirement already satisfied: xxhash in /usr/local/lib/python3.12/dist-packages (from datasets) (3.6.0)\n",
      "Requirement already satisfied: multiprocess<0.70.17 in /usr/local/lib/python3.12/dist-packages (from datasets) (0.70.16)\n",
      "Requirement already satisfied: nltk in /usr/local/lib/python3.12/dist-packages (from rouge-score) (3.9.1)\n",
      "Requirement already satisfied: wheel<1.0,>=0.23.0 in /usr/local/lib/python3.12/dist-packages (from astunparse>=1.6.0->tensorflow) (0.45.1)\n",
      "Requirement already satisfied: aiohttp!=4.0.0a0,!=4.0.0a1 in /usr/local/lib/python3.12/dist-packages (from fsspec[http]<=2025.3.0,>=2023.1.0->datasets) (3.13.1)\n",
      "Requirement already satisfied: hf-xet<2.0.0,>=1.1.3 in /usr/local/lib/python3.12/dist-packages (from huggingface-hub<1.0,>=0.34.0->transformers) (1.1.10)\n",
      "Requirement already satisfied: rich in /usr/local/lib/python3.12/dist-packages (from keras>=3.5.0->tensorflow) (13.9.4)\n",
      "Requirement already satisfied: namex in /usr/local/lib/python3.12/dist-packages (from keras>=3.5.0->tensorflow) (0.1.0)\n",
      "Requirement already satisfied: optree in /usr/local/lib/python3.12/dist-packages (from keras>=3.5.0->tensorflow) (0.17.0)\n",
      "Requirement already satisfied: charset_normalizer<4,>=2 in /usr/local/lib/python3.12/dist-packages (from requests->transformers) (3.4.4)\n",
      "Requirement already satisfied: idna<4,>=2.5 in /usr/local/lib/python3.12/dist-packages (from requests->transformers) (3.11)\n",
      "Requirement already satisfied: urllib3<3,>=1.21.1 in /usr/local/lib/python3.12/dist-packages (from requests->transformers) (2.5.0)\n",
      "Requirement already satisfied: certifi>=2017.4.17 in /usr/local/lib/python3.12/dist-packages (from requests->transformers) (2025.10.5)\n",
      "Requirement already satisfied: mpmath<1.4,>=1.1.0 in /usr/local/lib/python3.12/dist-packages (from sympy>=1.13.3->torch) (1.3.0)\n",
      "Requirement already satisfied: markdown>=2.6.8 in /usr/local/lib/python3.12/dist-packages (from tensorboard~=2.19.0->tensorflow) (3.9)\n",
      "Requirement already satisfied: tensorboard-data-server<0.8.0,>=0.7.0 in /usr/local/lib/python3.12/dist-packages (from tensorboard~=2.19.0->tensorflow) (0.7.2)\n",
      "Requirement already satisfied: werkzeug>=1.0.1 in /usr/local/lib/python3.12/dist-packages (from tensorboard~=2.19.0->tensorflow) (3.1.3)\n",
      "Requirement already satisfied: MarkupSafe>=2.0 in /usr/local/lib/python3.12/dist-packages (from jinja2->torch) (3.0.3)\n",
      "Requirement already satisfied: click in /usr/local/lib/python3.12/dist-packages (from nltk->rouge-score) (8.3.0)\n",
      "Requirement already satisfied: joblib in /usr/local/lib/python3.12/dist-packages (from nltk->rouge-score) (1.5.2)\n",
      "Requirement already satisfied: python-dateutil>=2.8.2 in /usr/local/lib/python3.12/dist-packages (from pandas->datasets) (2.9.0.post0)\n",
      "Requirement already satisfied: pytz>=2020.1 in /usr/local/lib/python3.12/dist-packages (from pandas->datasets) (2025.2)\n",
      "Requirement already satisfied: tzdata>=2022.7 in /usr/local/lib/python3.12/dist-packages (from pandas->datasets) (2025.2)\n",
      "Requirement already satisfied: aiohappyeyeballs>=2.5.0 in /usr/local/lib/python3.12/dist-packages (from aiohttp!=4.0.0a0,!=4.0.0a1->fsspec[http]<=2025.3.0,>=2023.1.0->datasets) (2.6.1)\n",
      "Requirement already satisfied: aiosignal>=1.4.0 in /usr/local/lib/python3.12/dist-packages (from aiohttp!=4.0.0a0,!=4.0.0a1->fsspec[http]<=2025.3.0,>=2023.1.0->datasets) (1.4.0)\n",
      "Requirement already satisfied: attrs>=17.3.0 in /usr/local/lib/python3.12/dist-packages (from aiohttp!=4.0.0a0,!=4.0.0a1->fsspec[http]<=2025.3.0,>=2023.1.0->datasets) (25.4.0)\n",
      "Requirement already satisfied: frozenlist>=1.1.1 in /usr/local/lib/python3.12/dist-packages (from aiohttp!=4.0.0a0,!=4.0.0a1->fsspec[http]<=2025.3.0,>=2023.1.0->datasets) (1.8.0)\n",
      "Requirement already satisfied: multidict<7.0,>=4.5 in /usr/local/lib/python3.12/dist-packages (from aiohttp!=4.0.0a0,!=4.0.0a1->fsspec[http]<=2025.3.0,>=2023.1.0->datasets) (6.7.0)\n",
      "Requirement already satisfied: propcache>=0.2.0 in /usr/local/lib/python3.12/dist-packages (from aiohttp!=4.0.0a0,!=4.0.0a1->fsspec[http]<=2025.3.0,>=2023.1.0->datasets) (0.4.1)\n",
      "Requirement already satisfied: yarl<2.0,>=1.17.0 in /usr/local/lib/python3.12/dist-packages (from aiohttp!=4.0.0a0,!=4.0.0a1->fsspec[http]<=2025.3.0,>=2023.1.0->datasets) (1.22.0)\n",
      "Requirement already satisfied: markdown-it-py>=2.2.0 in /usr/local/lib/python3.12/dist-packages (from rich->keras>=3.5.0->tensorflow) (4.0.0)\n",
      "Requirement already satisfied: pygments<3.0.0,>=2.13.0 in /usr/local/lib/python3.12/dist-packages (from rich->keras>=3.5.0->tensorflow) (2.19.2)\n",
      "Requirement already satisfied: mdurl~=0.1 in /usr/local/lib/python3.12/dist-packages (from markdown-it-py>=2.2.0->rich->keras>=3.5.0->tensorflow) (0.1.2)\n",
      "Downloading evaluate-0.4.6-py3-none-any.whl (84 kB)\n",
      "\u001b[2K   \u001b[90m━━━━━━━━━━━━━━━━━━━━━━━━━━━━━━━━━━━━━━━━\u001b[0m \u001b[32m84.1/84.1 kB\u001b[0m \u001b[31m4.7 MB/s\u001b[0m eta \u001b[36m0:00:00\u001b[0m\n",
      "\u001b[?25hBuilding wheels for collected packages: rouge-score\n",
      "  Building wheel for rouge-score (setup.py) ... \u001b[?25l\u001b[?25hdone\n",
      "  Created wheel for rouge-score: filename=rouge_score-0.1.2-py3-none-any.whl size=24934 sha256=f365f77e4eabe7481c97d8f5d2fd77a7f8a5f2e3f8dfa0b14b8515fa5002f223\n",
      "  Stored in directory: /root/.cache/pip/wheels/85/9d/af/01feefbe7d55ef5468796f0c68225b6788e85d9d0a281e7a70\n",
      "Successfully built rouge-score\n",
      "Installing collected packages: rouge-score, evaluate\n",
      "Successfully installed evaluate-0.4.6 rouge-score-0.1.2\n",
      "Requirement already satisfied: pandas in /usr/local/lib/python3.12/dist-packages (2.2.2)\n",
      "Requirement already satisfied: numpy in /usr/local/lib/python3.12/dist-packages (2.0.2)\n",
      "Requirement already satisfied: matplotlib in /usr/local/lib/python3.12/dist-packages (3.10.0)\n",
      "Requirement already satisfied: seaborn in /usr/local/lib/python3.12/dist-packages (0.13.2)\n",
      "Requirement already satisfied: scikit-learn in /usr/local/lib/python3.12/dist-packages (1.6.1)\n",
      "Requirement already satisfied: python-dateutil>=2.8.2 in /usr/local/lib/python3.12/dist-packages (from pandas) (2.9.0.post0)\n",
      "Requirement already satisfied: pytz>=2020.1 in /usr/local/lib/python3.12/dist-packages (from pandas) (2025.2)\n",
      "Requirement already satisfied: tzdata>=2022.7 in /usr/local/lib/python3.12/dist-packages (from pandas) (2025.2)\n",
      "Requirement already satisfied: contourpy>=1.0.1 in /usr/local/lib/python3.12/dist-packages (from matplotlib) (1.3.3)\n",
      "Requirement already satisfied: cycler>=0.10 in /usr/local/lib/python3.12/dist-packages (from matplotlib) (0.12.1)\n",
      "Requirement already satisfied: fonttools>=4.22.0 in /usr/local/lib/python3.12/dist-packages (from matplotlib) (4.60.1)\n",
      "Requirement already satisfied: kiwisolver>=1.3.1 in /usr/local/lib/python3.12/dist-packages (from matplotlib) (1.4.9)\n",
      "Requirement already satisfied: packaging>=20.0 in /usr/local/lib/python3.12/dist-packages (from matplotlib) (25.0)\n",
      "Requirement already satisfied: pillow>=8 in /usr/local/lib/python3.12/dist-packages (from matplotlib) (11.3.0)\n",
      "Requirement already satisfied: pyparsing>=2.3.1 in /usr/local/lib/python3.12/dist-packages (from matplotlib) (3.2.5)\n",
      "Requirement already satisfied: scipy>=1.6.0 in /usr/local/lib/python3.12/dist-packages (from scikit-learn) (1.16.2)\n",
      "Requirement already satisfied: joblib>=1.2.0 in /usr/local/lib/python3.12/dist-packages (from scikit-learn) (1.5.2)\n",
      "Requirement already satisfied: threadpoolctl>=3.1.0 in /usr/local/lib/python3.12/dist-packages (from scikit-learn) (3.6.0)\n",
      "Requirement already satisfied: six>=1.5 in /usr/local/lib/python3.12/dist-packages (from python-dateutil>=2.8.2->pandas) (1.17.0)\n",
      "Requirement already satisfied: gradio in /usr/local/lib/python3.12/dist-packages (5.49.1)\n",
      "Requirement already satisfied: huggingface_hub in /usr/local/lib/python3.12/dist-packages (0.35.3)\n",
      "Requirement already satisfied: aiofiles<25.0,>=22.0 in /usr/local/lib/python3.12/dist-packages (from gradio) (24.1.0)\n",
      "Requirement already satisfied: anyio<5.0,>=3.0 in /usr/local/lib/python3.12/dist-packages (from gradio) (4.11.0)\n",
      "Requirement already satisfied: brotli>=1.1.0 in /usr/local/lib/python3.12/dist-packages (from gradio) (1.1.0)\n",
      "Requirement already satisfied: fastapi<1.0,>=0.115.2 in /usr/local/lib/python3.12/dist-packages (from gradio) (0.119.1)\n",
      "Requirement already satisfied: ffmpy in /usr/local/lib/python3.12/dist-packages (from gradio) (0.6.3)\n",
      "Requirement already satisfied: gradio-client==1.13.3 in /usr/local/lib/python3.12/dist-packages (from gradio) (1.13.3)\n",
      "Requirement already satisfied: groovy~=0.1 in /usr/local/lib/python3.12/dist-packages (from gradio) (0.1.2)\n",
      "Requirement already satisfied: httpx<1.0,>=0.24.1 in /usr/local/lib/python3.12/dist-packages (from gradio) (0.28.1)\n",
      "Requirement already satisfied: jinja2<4.0 in /usr/local/lib/python3.12/dist-packages (from gradio) (3.1.6)\n",
      "Requirement already satisfied: markupsafe<4.0,>=2.0 in /usr/local/lib/python3.12/dist-packages (from gradio) (3.0.3)\n",
      "Requirement already satisfied: numpy<3.0,>=1.0 in /usr/local/lib/python3.12/dist-packages (from gradio) (2.0.2)\n",
      "Requirement already satisfied: orjson~=3.0 in /usr/local/lib/python3.12/dist-packages (from gradio) (3.11.3)\n",
      "Requirement already satisfied: packaging in /usr/local/lib/python3.12/dist-packages (from gradio) (25.0)\n",
      "Requirement already satisfied: pandas<3.0,>=1.0 in /usr/local/lib/python3.12/dist-packages (from gradio) (2.2.2)\n",
      "Requirement already satisfied: pillow<12.0,>=8.0 in /usr/local/lib/python3.12/dist-packages (from gradio) (11.3.0)\n",
      "Requirement already satisfied: pydantic<2.12,>=2.0 in /usr/local/lib/python3.12/dist-packages (from gradio) (2.11.10)\n",
      "Requirement already satisfied: pydub in /usr/local/lib/python3.12/dist-packages (from gradio) (0.25.1)\n",
      "Requirement already satisfied: python-multipart>=0.0.18 in /usr/local/lib/python3.12/dist-packages (from gradio) (0.0.20)\n",
      "Requirement already satisfied: pyyaml<7.0,>=5.0 in /usr/local/lib/python3.12/dist-packages (from gradio) (6.0.3)\n",
      "Requirement already satisfied: ruff>=0.9.3 in /usr/local/lib/python3.12/dist-packages (from gradio) (0.14.1)\n",
      "Requirement already satisfied: safehttpx<0.2.0,>=0.1.6 in /usr/local/lib/python3.12/dist-packages (from gradio) (0.1.6)\n",
      "Requirement already satisfied: semantic-version~=2.0 in /usr/local/lib/python3.12/dist-packages (from gradio) (2.10.0)\n",
      "Requirement already satisfied: starlette<1.0,>=0.40.0 in /usr/local/lib/python3.12/dist-packages (from gradio) (0.48.0)\n",
      "Requirement already satisfied: tomlkit<0.14.0,>=0.12.0 in /usr/local/lib/python3.12/dist-packages (from gradio) (0.13.3)\n",
      "Requirement already satisfied: typer<1.0,>=0.12 in /usr/local/lib/python3.12/dist-packages (from gradio) (0.20.0)\n",
      "Requirement already satisfied: typing-extensions~=4.0 in /usr/local/lib/python3.12/dist-packages (from gradio) (4.15.0)\n",
      "Requirement already satisfied: uvicorn>=0.14.0 in /usr/local/lib/python3.12/dist-packages (from gradio) (0.38.0)\n",
      "Requirement already satisfied: fsspec in /usr/local/lib/python3.12/dist-packages (from gradio-client==1.13.3->gradio) (2025.3.0)\n",
      "Requirement already satisfied: websockets<16.0,>=13.0 in /usr/local/lib/python3.12/dist-packages (from gradio-client==1.13.3->gradio) (15.0.1)\n",
      "Requirement already satisfied: filelock in /usr/local/lib/python3.12/dist-packages (from huggingface_hub) (3.20.0)\n",
      "Requirement already satisfied: requests in /usr/local/lib/python3.12/dist-packages (from huggingface_hub) (2.32.4)\n",
      "Requirement already satisfied: tqdm>=4.42.1 in /usr/local/lib/python3.12/dist-packages (from huggingface_hub) (4.67.1)\n",
      "Requirement already satisfied: hf-xet<2.0.0,>=1.1.3 in /usr/local/lib/python3.12/dist-packages (from huggingface_hub) (1.1.10)\n",
      "Requirement already satisfied: idna>=2.8 in /usr/local/lib/python3.12/dist-packages (from anyio<5.0,>=3.0->gradio) (3.11)\n",
      "Requirement already satisfied: sniffio>=1.1 in /usr/local/lib/python3.12/dist-packages (from anyio<5.0,>=3.0->gradio) (1.3.1)\n",
      "Requirement already satisfied: certifi in /usr/local/lib/python3.12/dist-packages (from httpx<1.0,>=0.24.1->gradio) (2025.10.5)\n",
      "Requirement already satisfied: httpcore==1.* in /usr/local/lib/python3.12/dist-packages (from httpx<1.0,>=0.24.1->gradio) (1.0.9)\n",
      "Requirement already satisfied: h11>=0.16 in /usr/local/lib/python3.12/dist-packages (from httpcore==1.*->httpx<1.0,>=0.24.1->gradio) (0.16.0)\n",
      "Requirement already satisfied: python-dateutil>=2.8.2 in /usr/local/lib/python3.12/dist-packages (from pandas<3.0,>=1.0->gradio) (2.9.0.post0)\n",
      "Requirement already satisfied: pytz>=2020.1 in /usr/local/lib/python3.12/dist-packages (from pandas<3.0,>=1.0->gradio) (2025.2)\n",
      "Requirement already satisfied: tzdata>=2022.7 in /usr/local/lib/python3.12/dist-packages (from pandas<3.0,>=1.0->gradio) (2025.2)\n",
      "Requirement already satisfied: annotated-types>=0.6.0 in /usr/local/lib/python3.12/dist-packages (from pydantic<2.12,>=2.0->gradio) (0.7.0)\n",
      "Requirement already satisfied: pydantic-core==2.33.2 in /usr/local/lib/python3.12/dist-packages (from pydantic<2.12,>=2.0->gradio) (2.33.2)\n",
      "Requirement already satisfied: typing-inspection>=0.4.0 in /usr/local/lib/python3.12/dist-packages (from pydantic<2.12,>=2.0->gradio) (0.4.2)\n",
      "Requirement already satisfied: click>=8.0.0 in /usr/local/lib/python3.12/dist-packages (from typer<1.0,>=0.12->gradio) (8.3.0)\n",
      "Requirement already satisfied: shellingham>=1.3.0 in /usr/local/lib/python3.12/dist-packages (from typer<1.0,>=0.12->gradio) (1.5.4)\n",
      "Requirement already satisfied: rich>=10.11.0 in /usr/local/lib/python3.12/dist-packages (from typer<1.0,>=0.12->gradio) (13.9.4)\n",
      "Requirement already satisfied: charset_normalizer<4,>=2 in /usr/local/lib/python3.12/dist-packages (from requests->huggingface_hub) (3.4.4)\n",
      "Requirement already satisfied: urllib3<3,>=1.21.1 in /usr/local/lib/python3.12/dist-packages (from requests->huggingface_hub) (2.5.0)\n",
      "Requirement already satisfied: six>=1.5 in /usr/local/lib/python3.12/dist-packages (from python-dateutil>=2.8.2->pandas<3.0,>=1.0->gradio) (1.17.0)\n",
      "Requirement already satisfied: markdown-it-py>=2.2.0 in /usr/local/lib/python3.12/dist-packages (from rich>=10.11.0->typer<1.0,>=0.12->gradio) (4.0.0)\n",
      "Requirement already satisfied: pygments<3.0.0,>=2.13.0 in /usr/local/lib/python3.12/dist-packages (from rich>=10.11.0->typer<1.0,>=0.12->gradio) (2.19.2)\n",
      "Requirement already satisfied: mdurl~=0.1 in /usr/local/lib/python3.12/dist-packages (from markdown-it-py>=2.2.0->rich>=10.11.0->typer<1.0,>=0.12->gradio) (0.1.2)\n",
      "Reading package lists... Done\n",
      "Building dependency tree... Done\n",
      "Reading state information... Done\n",
      "git-lfs is already the newest version (3.0.2-1ubuntu0.3).\n",
      "0 upgraded, 0 newly installed, 0 to remove and 38 not upgraded.\n"
     ]
    }
   ],
   "source": [
    "# Cell 1: Project Setup and Installation\n",
    "\"\"\"\n",
    "MediBot Africa - Healthcare Chatbot\n",
    "Fine-tuned Transformer model for medical Q&A in African contexts\n",
    "\"\"\"\n",
    "\n",
    "# Install required packages\n",
    "!pip install transformers torch tensorflow datasets evaluate rouge-score\n",
    "!pip install pandas numpy matplotlib seaborn scikit-learn\n",
    "!pip install gradio huggingface_hub\n",
    "!apt-get install git-lfs"
   ]
  },
  {
   "cell_type": "code",
   "execution_count": 2,
   "metadata": {
    "colab": {
     "base_uri": "https://localhost:8080/"
    },
    "executionInfo": {
     "elapsed": 50648,
     "status": "ok",
     "timestamp": 1761651385305,
     "user": {
      "displayName": "Kanisa Thiak",
      "userId": "11456701695554532163"
     },
     "user_tz": -120
    },
    "id": "HCJ3ABxIZzeV",
    "outputId": "30a85b4b-da03-4bba-87d9-de1dbcec5638"
   },
   "outputs": [
    {
     "name": "stdout",
     "output_type": "stream",
     "text": [
      "Libraries imported successfully!\n"
     ]
    }
   ],
   "source": [
    "# Cell 2: Import Libraries\n",
    "import pandas as pd\n",
    "import numpy as np\n",
    "import json\n",
    "import torch\n",
    "from torch.utils.data import Dataset, DataLoader\n",
    "from transformers import (\n",
    "    AutoTokenizer,\n",
    "    AutoModelForCausalLM,\n",
    "    TrainingArguments,\n",
    "    Trainer,\n",
    "    DataCollatorForLanguageModeling,\n",
    "    pipeline\n",
    ")\n",
    "import evaluate\n",
    "from datasets import Dataset as HFDataset\n",
    "import matplotlib.pyplot as plt\n",
    "import seaborn as sns\n",
    "from sklearn.model_selection import train_test_split\n",
    "import gradio as gr\n",
    "from huggingface_hub import HfApi, HfFolder, notebook_login\n",
    "import os\n",
    "import warnings\n",
    "warnings.filterwarnings('ignore')\n",
    "\n",
    "print(\"Libraries imported successfully!\")"
   ]
  },
  {
   "cell_type": "code",
   "execution_count": 3,
   "metadata": {
    "colab": {
     "base_uri": "https://localhost:8080/"
    },
    "executionInfo": {
     "elapsed": 25,
     "status": "ok",
     "timestamp": 1761651385336,
     "user": {
      "displayName": "Kanisa Thiak",
      "userId": "11456701695554532163"
     },
     "user_tz": -120
    },
    "id": "LvI-tI6faIvz",
    "outputId": "b007f657-38d7-4fb9-b6b9-5ec0bdc25704"
   },
   "outputs": [
    {
     "name": "stdout",
     "output_type": "stream",
     "text": [
      "Configuration setup complete!\n"
     ]
    }
   ],
   "source": [
    "# Cell 3: Configuration and Setup\n",
    "class Config:\n",
    "    MODEL_NAME = \"microsoft/DialoGPT-medium\"\n",
    "    DATA_PATH = \"medibot_dataset.json\"\n",
    "    OUTPUT_DIR = \"./medibot_model\"\n",
    "    MAX_LENGTH = 512\n",
    "    BATCH_SIZE = 4\n",
    "    EPOCHS = 3\n",
    "    LEARNING_RATE = 5e-5\n",
    "\n",
    "config = Config()\n",
    "\n",
    "# Create output directory\n",
    "os.makedirs(config.OUTPUT_DIR, exist_ok=True)\n",
    "print(\"Configuration setup complete!\")"
   ]
  },
  {
   "cell_type": "code",
   "execution_count": 4,
   "metadata": {
    "colab": {
     "base_uri": "https://localhost:8080/"
    },
    "executionInfo": {
     "elapsed": 25,
     "status": "ok",
     "timestamp": 1761651385353,
     "user": {
      "displayName": "Kanisa Thiak",
      "userId": "11456701695554532163"
     },
     "user_tz": -120
    },
    "id": "5LpSrNbcaN-z",
    "outputId": "d2182f53-4a56-4ba2-9423-90bdb27d3b03"
   },
   "outputs": [
    {
     "name": "stdout",
     "output_type": "stream",
     "text": [
      "Dataset Overview:\n",
      "==================================================\n",
      "Total samples: 2000\n",
      "Categories: 9\n",
      "Columns: ['id', 'category', 'context', 'input', 'response']\n",
      "\n",
      "Sample data:\n",
      "    category                               input  \\\n",
      "0  Pneumonia  What are early signs of pneumonia?   \n",
      "1    Typhoid           Can typhoid be prevented?   \n",
      "\n",
      "                                            response  \n",
      "0  Early signs of pneumonia include cough, fever,...  \n",
      "1  Wash your hands, avoid raw foods, drink safe w...  \n"
     ]
    }
   ],
   "source": [
    "# Cell 4: Load and Explore Dataset\n",
    "def load_dataset(path):\n",
    "    \"\"\"Load and validate the medical dataset\"\"\"\n",
    "    with open(path, 'r') as f:\n",
    "        data = json.load(f)\n",
    "    return pd.DataFrame(data)\n",
    "\n",
    "# Load data\n",
    "df = load_dataset(config.DATA_PATH)\n",
    "\n",
    "print(\"Dataset Overview:\")\n",
    "print(\"=\" * 50)\n",
    "print(f\"Total samples: {len(df)}\")\n",
    "print(f\"Categories: {df['category'].nunique()}\")\n",
    "print(f\"Columns: {df.columns.tolist()}\")\n",
    "\n",
    "# Display sample\n",
    "print(\"\\nSample data:\")\n",
    "print(df[['category', 'input', 'response']].head(2))"
   ]
  },
  {
   "cell_type": "code",
   "execution_count": 5,
   "metadata": {
    "colab": {
     "base_uri": "https://localhost:8080/",
     "height": 575
    },
    "executionInfo": {
     "elapsed": 2379,
     "status": "ok",
     "timestamp": 1761651387735,
     "user": {
      "displayName": "Kanisa Thiak",
      "userId": "11456701695554532163"
     },
     "user_tz": -120
    },
    "id": "UVM4eTVlaT_P",
    "outputId": "0b224f7d-1204-4e69-b968-4723f8832b9a"
   },
   "outputs": [
    {
     "name": "stdout",
     "output_type": "stream",
     "text": [
      "Data Analysis Results:\n",
      "total_samples: 2000\n",
      "categories: 9\n",
      "avg_question_len: 33.23\n",
      "avg_response_len: 88.6765\n",
      "missing_values: {'id': 0, 'category': 0, 'context': 0, 'input': 0, 'response': 0}\n"
     ]
    },
    {
     "data": {
      "image/png": "[encoded data removed]",
      "text/plain": [
       "<Figure size 1200x600 with 1 Axes>"
      ]
     },
     "metadata": {},
     "output_type": "display_data"
    }
   ],
   "source": [
    "# Cell 5: Data Analysis and Visualization\n",
    "def analyze_data(df):\n",
    "    \"\"\"Perform comprehensive data analysis\"\"\"\n",
    "    analysis = {\n",
    "        'total_samples': len(df),\n",
    "        'categories': df['category'].nunique(),\n",
    "        'avg_question_len': df['input'].apply(len).mean(),\n",
    "        'avg_response_len': df['response'].apply(len).mean(),\n",
    "        'missing_values': df.isnull().sum().to_dict()\n",
    "    }\n",
    "    return analysis\n",
    "\n",
    "# Perform analysis\n",
    "analysis = analyze_data(df)\n",
    "print(\"Data Analysis Results:\")\n",
    "for key, value in analysis.items():\n",
    "    print(f\"{key}: {value}\")\n",
    "\n",
    "# Visualize category distribution\n",
    "plt.figure(figsize=(12, 6))\n",
    "df['category'].value_counts().plot(kind='bar')\n",
    "plt.title('Medical Questions by Category')\n",
    "plt.xticks(rotation=45)\n",
    "plt.tight_layout()\n",
    "plt.savefig(f'{config.OUTPUT_DIR}/category_distribution.png', dpi=300, bbox_inches='tight')\n",
    "plt.show()"
   ]
  },
  {
   "cell_type": "code",
   "execution_count": 6,
   "metadata": {
    "colab": {
     "base_uri": "https://localhost:8080/"
    },
    "executionInfo": {
     "elapsed": 13,
     "status": "ok",
     "timestamp": 1761651387756,
     "user": {
      "displayName": "Kanisa Thiak",
      "userId": "11456701695554532163"
     },
     "user_tz": -120
    },
    "id": "EHh4-KzcaZhh",
    "outputId": "af7f3571-3315-403d-d38a-d3278fee38e2"
   },
   "outputs": [
    {
     "name": "stdout",
     "output_type": "stream",
     "text": [
      "Training samples: 1400\n",
      "Validation samples: 300\n",
      "Test samples: 300\n"
     ]
    }
   ],
   "source": [
    "# Cell 6: Data Preprocessing\n",
    "def preprocess_data(df):\n",
    "    \"\"\"Format data for conversational AI training\"\"\"\n",
    "    def format_conversation(row):\n",
    "        return f\"User: {row['input']}\\nAssistant: {row['response']}\"\n",
    "\n",
    "    df['conversation'] = df.apply(format_conversation, axis=1)\n",
    "    return df\n",
    "\n",
    "# Preprocess data\n",
    "df = preprocess_data(df)\n",
    "\n",
    "# Split dataset\n",
    "train_df, temp_df = train_test_split(df, test_size=0.3, random_state=42)\n",
    "val_df, test_df = train_test_split(temp_df, test_size=0.5, random_state=42)\n",
    "\n",
    "print(f\"Training samples: {len(train_df)}\")\n",
    "print(f\"Validation samples: {len(val_df)}\")\n",
    "print(f\"Test samples: {len(test_df)}\")\n",
    "\n",
    "# Save processed data\n",
    "train_df[['conversation']].to_csv(f'{config.OUTPUT_DIR}/train_data.csv', index=False)\n",
    "val_df[['conversation']].to_csv(f'{config.OUTPUT_DIR}/val_data.csv', index=False)"
   ]
  },
  {
   "cell_type": "code",
   "execution_count": 7,
   "metadata": {
    "colab": {
     "base_uri": "https://localhost:8080/",
     "height": 293,
     "referenced_widgets": [
      "17abcf27ea3242b3a01564f766acfa81",
      "788b02c9f87e49358697fa581a96dd18",
      "0a89a959eaba4f2096d1941f41e51e0c",
      "9bc0e64abd4f4286aa7061e5be2141b2",
      "e06d701552d34799af528cdcccfa341b",
      "399850c21ba34a549ea1edf5f932ecef",
      "f90f2fd0538b4012849ba81646aeb446",
      "a622282ae7ec4cee9735a971073f2841",
      "56240145fef9420995ee7b51b4723a53",
      "96d8af39d6274945a8587926dbe0da22",
      "9865c6751bb84bed8675c5bf0bccc972",
      "7d110b1a9df7467ab451776f8b381828",
      "67202145ed7a40b4aec41df3310470e6",
      "e69614b373594209b24205f6ea2de47d",
      "862af840a0aa44f8a2986973aae83080",
      "d34ee660c2c94f65b443bdcff07085c7",
      "10e63b28532f49148e3591e3ec042d9f",
      "edbacc151edf4286809d79de4870fb82",
      "22d7e8bcf5bf44478ac48a90023d81d4",
      "5e1863a4d0954c89846e39d9b6ed46c4",
      "7565375d91264b1a85d0663b3da6d1e7",
      "733280f0b99542f9a47e8e62d7df75eb",
      "792bf39ebea34eec820ad6705e7f3cf6",
      "adfbd52cdbed4c2695552ea83e9cf702",
      "60117f84fa144127bd68c20ac344a033",
      "fd90b10d466d40b19e742448df9b4ddc",
      "c5f4a751a4b141c687f029e6dbb17411",
      "01ecfa833c1e499792e6763a8ecf55d3",
      "e07ffc79998f400eb646e6b69990b4f1",
      "d8bbcf71d97348e4a702e6ebc3770710",
      "0112ea827ce643b8834d7b314538b33d",
      "be726d96854140fe9aceed6ff3e95d82",
      "cdad8411719f45b9b6582001c1c68a9f",
      "b9f091bf718f453b99f5fd458fb81a22",
      "d1ebe84b66244f8894a2fbf2c27c150e",
      "9fd80b8e11b8468394d92413b7d996e5",
      "086bfae9c5424faaa539700f1ea6ae31",
      "25dc634cdf9446868fd1fe483a4b96b2",
      "f9502483688b480382c235e1dd7bc7aa",
      "1fe9e551067e4f0a9787cf481ae391bb",
      "2a90b9fd4e7e451382cdf477cba4fa6b",
      "cedd3742aafd42719a9de18308f4d856",
      "6752d2fdd953438f88aea1cd611e796d",
      "0f99b786d846494e89a4f326a7305a6c",
      "14dc87dfa05b4d95b85b66ca0562acf4",
      "bec9e86d3e584c43ac7a9bea53e3e85f",
      "51738bc002024a9ea9f3d091e4d93b9f",
      "b6151a0f0fc54020b18d930d11103eff",
      "7ac3758b20e24983a551126f72f4df0b",
      "db01dc04d9af4e20862103d2be0ff70c",
      "37c2f1b40c674c82bd605dd31d6fb1be",
      "54ab8f79b1d94964b169da59a534ccb7",
      "9a32e7f65d9d492ca5315664ad41a853",
      "65fbda38d6e44d9992d0f9f34eca2eb1",
      "c7e29ae8b6fc4f8cb8b5d72da5bb7270",
      "c9446a062668439d916dbb3c7f2b778a",
      "52d4318df6664e8ca349336ce88e6a41",
      "94f84ae4bfe6462fa64ba785262ffbc7",
      "c48583cbeb604719b16e1bb2cae42907",
      "d26d192ac5184e0fb5752f5a06a06f10",
      "50a2efc259ea43de90f2ba6a5fac9dff",
      "80f1e93a9d76489e89b29e18a33dcd33",
      "2ab8eafc15fc4c549e6a34c09bec6e52",
      "41aa08659c144fa99ef552ff1cc06c16",
      "eae2f3d184f54f668d7262f4bf0b902d",
      "7e9a4d69dab447f08816fe6e1741b3c3",
      "9cb4e30ec20844dfa75c64a7a085e765",
      "8c00d5facb3a407393514dab06c02120",
      "1d9427de96594e43b21b264f1e026eb8",
      "d5fa1967fb9d46bcb1acb7dad5c3c7aa",
      "492ce04dd7cb4889b056c70bb10a61b9",
      "c61011e79f0548deb856b34677b2df92",
      "cb4a2796aaf74ce1852b13c8bbe3ad6b",
      "a08473b9cd2744a8a30d1f896fcc0bbb",
      "ccdc4c4275c04f13b75e1ec2fd654295",
      "f5f8d1c2adac46f890da1874d2799ec3",
      "f1bf1b361930476e8c1e2f6fdb903c3c"
     ]
    },
    "executionInfo": {
     "elapsed": 20351,
     "status": "ok",
     "timestamp": 1761651408112,
     "user": {
      "displayName": "Kanisa Thiak",
      "userId": "11456701695554532163"
     },
     "user_tz": -120
    },
    "id": "lqWZkEFpaljI",
    "outputId": "35668ba4-2bfa-4140-abe1-12fcf4ad36a2"
   },
   "outputs": [
    {
     "data": {
      "application/vnd.jupyter.widget-view+json": {
       "model_id": "17abcf27ea3242b3a01564f766acfa81",
       "version_major": 2,
       "version_minor": 0
      },
      "text/plain": [
       "tokenizer_config.json:   0%|          | 0.00/614 [00:00<?, ?B/s]"
      ]
     },
     "metadata": {},
     "output_type": "display_data"
    },
    {
     "data": {
      "application/vnd.jupyter.widget-view+json": {
       "model_id": "7d110b1a9df7467ab451776f8b381828",
       "version_major": 2,
       "version_minor": 0
      },
      "text/plain": [
       "vocab.json: 0.00B [00:00, ?B/s]"
      ]
     },
     "metadata": {},
     "output_type": "display_data"
    },
    {
     "data": {
      "application/vnd.jupyter.widget-view+json": {
       "model_id": "792bf39ebea34eec820ad6705e7f3cf6",
       "version_major": 2,
       "version_minor": 0
      },
      "text/plain": [
       "merges.txt: 0.00B [00:00, ?B/s]"
      ]
     },
     "metadata": {},
     "output_type": "display_data"
    },
    {
     "data": {
      "application/vnd.jupyter.widget-view+json": {
       "model_id": "b9f091bf718f453b99f5fd458fb81a22",
       "version_major": 2,
       "version_minor": 0
      },
      "text/plain": [
       "config.json:   0%|          | 0.00/642 [00:00<?, ?B/s]"
      ]
     },
     "metadata": {},
     "output_type": "display_data"
    },
    {
     "data": {
      "application/vnd.jupyter.widget-view+json": {
       "model_id": "14dc87dfa05b4d95b85b66ca0562acf4",
       "version_major": 2,
       "version_minor": 0
      },
      "text/plain": [
       "pytorch_model.bin:   0%|          | 0.00/863M [00:00<?, ?B/s]"
      ]
     },
     "metadata": {},
     "output_type": "display_data"
    },
    {
     "data": {
      "application/vnd.jupyter.widget-view+json": {
       "model_id": "c9446a062668439d916dbb3c7f2b778a",
       "version_major": 2,
       "version_minor": 0
      },
      "text/plain": [
       "model.safetensors:   0%|          | 0.00/863M [00:00<?, ?B/s]"
      ]
     },
     "metadata": {},
     "output_type": "display_data"
    },
    {
     "data": {
      "application/vnd.jupyter.widget-view+json": {
       "model_id": "9cb4e30ec20844dfa75c64a7a085e765",
       "version_major": 2,
       "version_minor": 0
      },
      "text/plain": [
       "generation_config.json:   0%|          | 0.00/124 [00:00<?, ?B/s]"
      ]
     },
     "metadata": {},
     "output_type": "display_data"
    },
    {
     "name": "stdout",
     "output_type": "stream",
     "text": [
      "Model: microsoft/DialoGPT-medium\n",
      "Vocabulary size: 50257\n",
      "Model parameters: 354,823,168\n"
     ]
    }
   ],
   "source": [
    "# Cell 7: Initialize Model and Tokenizer\n",
    "def initialize_model():\n",
    "    \"\"\"Initialize tokenizer and model\"\"\"\n",
    "    tokenizer = AutoTokenizer.from_pretrained(config.MODEL_NAME)\n",
    "    tokenizer.pad_token = tokenizer.eos_token\n",
    "\n",
    "    model = AutoModelForCausalLM.from_pretrained(config.MODEL_NAME)\n",
    "\n",
    "    print(f\"Model: {config.MODEL_NAME}\")\n",
    "    print(f\"Vocabulary size: {tokenizer.vocab_size}\")\n",
    "    print(f\"Model parameters: {sum(p.numel() for p in model.parameters()):,}\")\n",
    "\n",
    "    return tokenizer, model\n",
    "\n",
    "tokenizer, model = initialize_model()"
   ]
  },
  {
   "cell_type": "markdown",
   "metadata": {
    "id": "sCAN3ENFbJk-"
   },
   "source": [
    "##  Model Fine-Tuning and Hyperparameter Exploration\n",
    "\n",
    "After setting up the base configuration for MediBot Africa’s domain-specific chatbot, I conducted a series of fine-tuning experiments to identify the most optimal model architecture and hyperparameter settings.\n",
    "\n",
    "### Models and Configurations Tested\n",
    "I experimented with multiple transformer architectures and varied several hyperparameters to improve model performance:\n",
    "\n",
    "| Model | Learning Rate | Batch Size | Epochs | BLEU | ROUGE-L | Observation |\n",
    "|--------|----------------|-------------|---------|------|----------|-------------|\n",
    "| **T5-small** | 5e-5 | 4 | 3 | 0.120 | 0.290 | Baseline model; limited context understanding |\n",
    "| **T5-base** | 3e-5 | 4 | 3 | 0.150 | 0.310 | Improved fluency but slower training |\n",
    "| **DialoGPT-medium** | 5e-5 | 4 | 3 | **0.171** | **0.334** | Best contextual and domain relevance |\n",
    "\n",
    "### Key Adjustments Made\n",
    "- **Learning rate:** Tested values between *2e-5* and *1e-4* to balance stability and convergence speed.  \n",
    "- **Batch size:** Tried 2 and 4 to optimize GPU memory usage.  \n",
    "- **Model architecture:** Switched from sequence-to-sequence (T5) to dialogue-focused (DialoGPT) for better conversational coherence.  \n",
    "- **Training epochs:** Maintained at 3 after observing diminishing returns beyond this point.\n",
    "\n",
    "###  Results and Improvements\n",
    "- Transitioning to **DialoGPT-medium** improved BLEU by **~40%** and ROUGE-L by **~15%** compared to the baseline.  \n",
    "- The model showed **better contextual continuity** and **medical response accuracy**, making it more suitable for healthcare-related chatbot interactions.\n",
    "\n",
    "###  Conclusion\n",
    "Through iterative fine-tuning and hyperparameter optimization, the MediBot chatbot achieved significant improvements in both linguistic quality and domain-specific accuracy. These experiments ensured that the final model delivers coherent, empathetic, and medically aligned responses during user interactions.\n"
   ]
  },
  {
   "cell_type": "code",
   "execution_count": 8,
   "metadata": {
    "colab": {
     "base_uri": "https://localhost:8080/",
     "height": 98,
     "referenced_widgets": [
      "90b719e89120491e85d1a65bd6226203",
      "829f56fc2a9a41ebb2a12d9bd94d6eda",
      "8661f14359434da392609442822d86cb",
      "fdf48d2f610e4fbf993af612d437d85e",
      "18219b21e817407baccef5ab2dbcddb5",
      "f7c0dfe15f7b43159d1c0da58224925a",
      "d14aa69e690a40639ea5a2d35b5efe3b",
      "8b9e7272e0714afaa2bd97ea96b55797",
      "f3e111e7fb76482291d7513593c39dfd",
      "23d036d785a344deb195dfc0ab47ccdc",
      "7560b7171c704ff79d6e9865903a92a1",
      "0bdf3e18d17945a388477259a348d8e4",
      "0af7d0fc17004a708aa58bc86700ddb2",
      "791ae57117f64e688f953dfc192e7808",
      "2ec6451285314426b277e416c5dd7225",
      "3bfa669ae25e48b1b4b4e404dbf4374e",
      "b7e8fb157a5641e781262b820f83b44f",
      "78039dddf8b14a1f97876ad2c1844856",
      "d8579f1f20a146b6ae19b65e72e276c1",
      "96ca3b56990444c2aec54ea328d1aded",
      "b0e0f2bc6e1a453ca7983292828e45e1",
      "4dcaef59a039406d9a56ecbf127bb445"
     ]
    },
    "executionInfo": {
     "elapsed": 1693,
     "status": "ok",
     "timestamp": 1761651409812,
     "user": {
      "displayName": "Kanisa Thiak",
      "userId": "11456701695554532163"
     },
     "user_tz": -120
    },
    "id": "roDnZjUaaq0p",
    "outputId": "072604e5-eabc-4c6d-c723-217818305452"
   },
   "outputs": [
    {
     "data": {
      "application/vnd.jupyter.widget-view+json": {
       "model_id": "90b719e89120491e85d1a65bd6226203",
       "version_major": 2,
       "version_minor": 0
      },
      "text/plain": [
       "Map:   0%|          | 0/1400 [00:00<?, ? examples/s]"
      ]
     },
     "metadata": {},
     "output_type": "display_data"
    },
    {
     "data": {
      "application/vnd.jupyter.widget-view+json": {
       "model_id": "0bdf3e18d17945a388477259a348d8e4",
       "version_major": 2,
       "version_minor": 0
      },
      "text/plain": [
       "Map:   0%|          | 0/300 [00:00<?, ? examples/s]"
      ]
     },
     "metadata": {},
     "output_type": "display_data"
    },
    {
     "name": "stdout",
     "output_type": "stream",
     "text": [
      "Datasets tokenized successfully!\n"
     ]
    }
   ],
   "source": [
    "# Cell 8: Data Tokenization\n",
    "def tokenize_datasets(train_df, val_df, tokenizer):\n",
    "    \"\"\"Tokenize datasets for training\"\"\"\n",
    "\n",
    "    def tokenize_function(examples):\n",
    "        tokenized = tokenizer(\n",
    "            examples['conversation'],\n",
    "            truncation=True,\n",
    "            padding=True,\n",
    "            max_length=config.MAX_LENGTH,\n",
    "            return_tensors=\"pt\"\n",
    "        )\n",
    "        tokenized['labels'] = tokenized['input_ids'].clone()\n",
    "        return tokenized\n",
    "\n",
    "    # Convert to Hugging Face datasets\n",
    "    train_dataset = HFDataset.from_pandas(train_df[['conversation']])\n",
    "    val_dataset = HFDataset.from_pandas(val_df[['conversation']])\n",
    "\n",
    "    # Tokenize\n",
    "    tokenized_train = train_dataset.map(tokenize_function, batched=True)\n",
    "    tokenized_val = val_dataset.map(tokenize_function, batched=True)\n",
    "\n",
    "    return tokenized_train, tokenized_val\n",
    "\n",
    "tokenized_train, tokenized_val = tokenize_datasets(train_df, val_df, tokenizer)\n",
    "print(\"Datasets tokenized successfully!\")"
   ]
  },
  {
   "cell_type": "code",
   "execution_count": 9,
   "metadata": {
    "executionInfo": {
     "elapsed": 12501,
     "status": "ok",
     "timestamp": 1761651422317,
     "user": {
      "displayName": "Kanisa Thiak",
      "userId": "11456701695554532163"
     },
     "user_tz": -120
    },
    "id": "izD4KAOJayKW"
   },
   "outputs": [],
   "source": [
    "# Cell 9: Training Setup\n",
    "def setup_training():\n",
    "    \"\"\"Configure training arguments and data collator\"\"\"\n",
    "\n",
    "    # Data collator\n",
    "    data_collator = DataCollatorForLanguageModeling(\n",
    "        tokenizer=tokenizer,\n",
    "        mlm=False,\n",
    "        pad_to_multiple_of=8\n",
    "    )\n",
    "\n",
    "    # Training arguments\n",
    "    training_args = TrainingArguments(\n",
    "        output_dir=config.OUTPUT_DIR,\n",
    "        overwrite_output_dir=True,\n",
    "        num_train_epochs=config.EPOCHS,\n",
    "        per_device_train_batch_size=config.BATCH_SIZE,\n",
    "        per_device_eval_batch_size=config.BATCH_SIZE,\n",
    "        warmup_steps=100,\n",
    "        logging_steps=50,\n",
    "        eval_strategy=\"epoch\",\n",
    "        save_strategy=\"epoch\",\n",
    "        learning_rate=config.LEARNING_RATE,\n",
    "        weight_decay=0.01,\n",
    "        fp16=torch.cuda.is_available(),\n",
    "        report_to=None,\n",
    "        save_total_limit=2,\n",
    "        load_best_model_at_end=True,\n",
    "    )\n",
    "\n",
    "    return training_args, data_collator\n",
    "\n",
    "training_args, data_collator = setup_training()"
   ]
  },
  {
   "cell_type": "code",
   "execution_count": 10,
   "metadata": {
    "colab": {
     "base_uri": "https://localhost:8080/",
     "height": 554
    },
    "executionInfo": {
     "elapsed": 715526,
     "status": "ok",
     "timestamp": 1761652137850,
     "user": {
      "displayName": "Kanisa Thiak",
      "userId": "11456701695554532163"
     },
     "user_tz": -120
    },
    "id": "PGBU0Xu2a4WD",
    "outputId": "0621a461-74b2-45cf-95ba-2712fb7c6a0e"
   },
   "outputs": [
    {
     "name": "stderr",
     "output_type": "stream",
     "text": [
      "The tokenizer has new PAD/BOS/EOS tokens that differ from the model config and generation config. The model config and generation config were aligned accordingly, being updated with the tokenizer's values. Updated tokens: {'pad_token_id': 50256}.\n"
     ]
    },
    {
     "name": "stdout",
     "output_type": "stream",
     "text": [
      "Starting training...\n"
     ]
    },
    {
     "data": {
      "application/javascript": [
       "\n",
       "        window._wandbApiKey = new Promise((resolve, reject) => {\n",
       "            function loadScript(url) {\n",
       "            return new Promise(function(resolve, reject) {\n",
       "                let newScript = document.createElement(\"script\");\n",
       "                newScript.onerror = reject;\n",
       "                newScript.onload = resolve;\n",
       "                document.body.appendChild(newScript);\n",
       "                newScript.src = url;\n",
       "            });\n",
       "            }\n",
       "            loadScript(\"https://cdn.jsdelivr.net/npm/postmate/build/postmate.min.js\").then(() => {\n",
       "            const iframe = document.createElement('iframe')\n",
       "            iframe.style.cssText = \"width:0;height:0;border:none\"\n",
       "            document.body.appendChild(iframe)\n",
       "            const handshake = new Postmate({\n",
       "                container: iframe,\n",
       "                url: 'https://wandb.ai/authorize'\n",
       "            });\n",
       "            const timeout = setTimeout(() => reject(\"Couldn't auto authenticate\"), 5000)\n",
       "            handshake.then(function(child) {\n",
       "                child.on('authorize', data => {\n",
       "                    clearTimeout(timeout)\n",
       "                    resolve(data)\n",
       "                });\n",
       "            });\n",
       "            })\n",
       "        });\n",
       "    "
      ],
      "text/plain": [
       "<IPython.core.display.Javascript object>"
      ]
     },
     "metadata": {},
     "output_type": "display_data"
    },
    {
     "name": "stderr",
     "output_type": "stream",
     "text": [
      "\u001b[34m\u001b[1mwandb\u001b[0m: Logging into wandb.ai. (Learn how to deploy a W&B server locally: https://wandb.me/wandb-server)\n",
      "\u001b[34m\u001b[1mwandb\u001b[0m: You can find your API key in your browser here: https://wandb.ai/authorize?ref=models\n",
      "wandb: Paste an API key from your profile and hit enter:"
     ]
    },
    {
     "name": "stdout",
     "output_type": "stream",
     "text": [
      " ··········\n"
     ]
    },
    {
     "name": "stderr",
     "output_type": "stream",
     "text": [
      "\u001b[34m\u001b[1mwandb\u001b[0m: \u001b[33mWARNING\u001b[0m If you're specifying your api key in code, ensure this code is not shared publicly.\n",
      "\u001b[34m\u001b[1mwandb\u001b[0m: \u001b[33mWARNING\u001b[0m Consider setting the WANDB_API_KEY environment variable, or running `wandb login` from the command line.\n",
      "\u001b[34m\u001b[1mwandb\u001b[0m: No netrc file found, creating one.\n",
      "\u001b[34m\u001b[1mwandb\u001b[0m: Appending key for api.wandb.ai to your netrc file: /root/.netrc\n",
      "\u001b[34m\u001b[1mwandb\u001b[0m: Currently logged in as: \u001b[33mk-thiak\u001b[0m (\u001b[33mj-chemirmir-glasgow-caledonian-university\u001b[0m) to \u001b[32mhttps://api.wandb.ai\u001b[0m. Use \u001b[1m`wandb login --relogin`\u001b[0m to force relogin\n"
     ]
    },
    {
     "data": {
      "text/html": [],
      "text/plain": [
       "<IPython.core.display.HTML object>"
      ]
     },
     "metadata": {},
     "output_type": "display_data"
    },
    {
     "data": {
      "text/html": [
       "Tracking run with wandb version 0.22.2"
      ],
      "text/plain": [
       "<IPython.core.display.HTML object>"
      ]
     },
     "metadata": {},
     "output_type": "display_data"
    },
    {
     "data": {
      "text/html": [
       "Run data is saved locally in <code>/content/wandb/run-20251028_114312-rha4blhk</code>"
      ],
      "text/plain": [
       "<IPython.core.display.HTML object>"
      ]
     },
     "metadata": {},
     "output_type": "display_data"
    },
    {
     "data": {
      "text/html": [
       "Syncing run <strong><a href='https://wandb.ai/j-chemirmir-glasgow-caledonian-university/huggingface/runs/rha4blhk' target=\"_blank\">noble-sea-142</a></strong> to <a href='https://wandb.ai/j-chemirmir-glasgow-caledonian-university/huggingface' target=\"_blank\">Weights & Biases</a> (<a href='https://wandb.me/developer-guide' target=\"_blank\">docs</a>)<br>"
      ],
      "text/plain": [
       "<IPython.core.display.HTML object>"
      ]
     },
     "metadata": {},
     "output_type": "display_data"
    },
    {
     "data": {
      "text/html": [
       " View project at <a href='https://wandb.ai/j-chemirmir-glasgow-caledonian-university/huggingface' target=\"_blank\">https://wandb.ai/j-chemirmir-glasgow-caledonian-university/huggingface</a>"
      ],
      "text/plain": [
       "<IPython.core.display.HTML object>"
      ]
     },
     "metadata": {},
     "output_type": "display_data"
    },
    {
     "data": {
      "text/html": [
       " View run at <a href='https://wandb.ai/j-chemirmir-glasgow-caledonian-university/huggingface/runs/rha4blhk' target=\"_blank\">https://wandb.ai/j-chemirmir-glasgow-caledonian-university/huggingface/runs/rha4blhk</a>"
      ],
      "text/plain": [
       "<IPython.core.display.HTML object>"
      ]
     },
     "metadata": {},
     "output_type": "display_data"
    },
    {
     "name": "stderr",
     "output_type": "stream",
     "text": [
      "\u001b[34m\u001b[1mwandb\u001b[0m: Detected [huggingface_hub.inference, mcp] in use.\n",
      "\u001b[34m\u001b[1mwandb\u001b[0m: Use W&B Weave for improved LLM call tracing. Install Weave with `pip install weave` then add `import weave` to the top of your script.\n",
      "\u001b[34m\u001b[1mwandb\u001b[0m: For more information, check out the docs at: https://weave-docs.wandb.ai/\n",
      "`loss_type=None` was set in the config but it is unrecognized. Using the default loss: `ForCausalLMLoss`.\n"
     ]
    },
    {
     "data": {
      "text/html": [
       "\n",
       "    <div>\n",
       "      \n",
       "      <progress value='1050' max='1050' style='width:300px; height:20px; vertical-align: middle;'></progress>\n",
       "      [1050/1050 05:41, Epoch 3/3]\n",
       "    </div>\n",
       "    <table border=\"1\" class=\"dataframe\">\n",
       "  <thead>\n",
       " <tr style=\"text-align: left;\">\n",
       "      <th>Epoch</th>\n",
       "      <th>Training Loss</th>\n",
       "      <th>Validation Loss</th>\n",
       "    </tr>\n",
       "  </thead>\n",
       "  <tbody>\n",
       "    <tr>\n",
       "      <td>1</td>\n",
       "      <td>0.130900</td>\n",
       "      <td>0.129633</td>\n",
       "    </tr>\n",
       "    <tr>\n",
       "      <td>2</td>\n",
       "      <td>0.123800</td>\n",
       "      <td>0.120589</td>\n",
       "    </tr>\n",
       "    <tr>\n",
       "      <td>3</td>\n",
       "      <td>0.115400</td>\n",
       "      <td>0.115610</td>\n",
       "    </tr>\n",
       "  </tbody>\n",
       "</table><p>"
      ],
      "text/plain": [
       "<IPython.core.display.HTML object>"
      ]
     },
     "metadata": {},
     "output_type": "display_data"
    },
    {
     "name": "stderr",
     "output_type": "stream",
     "text": [
      "There were missing keys in the checkpoint model loaded: ['lm_head.weight'].\n"
     ]
    }
   ],
   "source": [
    "# Cell 10: Model Training\n",
    "def train_model(model, tokenized_train, tokenized_val, data_collator, training_args):\n",
    "    \"\"\"Train the model\"\"\"\n",
    "\n",
    "    trainer = Trainer(\n",
    "        model=model,\n",
    "        args=training_args,\n",
    "        data_collator=data_collator,\n",
    "        train_dataset=tokenized_train,\n",
    "        eval_dataset=tokenized_val,\n",
    "        tokenizer=tokenizer,\n",
    "    )\n",
    "\n",
    "    print(\"Starting training...\")\n",
    "    trainer.train()\n",
    "\n",
    "    return trainer\n",
    "\n",
    "trainer = train_model(model, tokenized_train, tokenized_val, data_collator, training_args)"
   ]
  },
  {
   "cell_type": "code",
   "execution_count": 11,
   "metadata": {
    "colab": {
     "base_uri": "https://localhost:8080/"
    },
    "executionInfo": {
     "elapsed": 13298,
     "status": "ok",
     "timestamp": 1761652151158,
     "user": {
      "displayName": "Kanisa Thiak",
      "userId": "11456701695554532163"
     },
     "user_tz": -120
    },
    "id": "TYZwJ8oabOc1",
    "outputId": "ef7d583e-f741-4cc3-c12c-cc712190cd22"
   },
   "outputs": [
    {
     "name": "stdout",
     "output_type": "stream",
     "text": [
      "Model artifacts saved successfully!\n",
      "Model size: 354,823,168 parameters\n"
     ]
    }
   ],
   "source": [
    "# Cell 11: Save Model and Tokenizer\n",
    "def save_model_artifacts(model, tokenizer, trainer):\n",
    "    \"\"\"Save model, tokenizer and training artifacts\"\"\"\n",
    "\n",
    "    # Save model and tokenizer\n",
    "    model.save_pretrained(config.OUTPUT_DIR)\n",
    "    tokenizer.save_pretrained(config.OUTPUT_DIR)\n",
    "\n",
    "    # Save training metrics\n",
    "    if trainer.state.log_history:\n",
    "        with open(f'{config.OUTPUT_DIR}/training_metrics.json', 'w') as f:\n",
    "            json.dump(trainer.state.log_history, f, indent=2)\n",
    "\n",
    "    # Save configuration\n",
    "    config_dict = {k: v for k, v in vars(config).items() if not k.startswith('_')}\n",
    "    with open(f'{config.OUTPUT_DIR}/model_config.json', 'w') as f:\n",
    "        json.dump(config_dict, f, indent=2)\n",
    "\n",
    "    print(\"Model artifacts saved successfully!\")\n",
    "    print(f\"Model size: {sum(p.numel() for p in model.parameters()):,} parameters\")\n",
    "\n",
    "save_model_artifacts(model, tokenizer, trainer)"
   ]
  },
  {
   "cell_type": "code",
   "execution_count": 12,
   "metadata": {
    "colab": {
     "base_uri": "https://localhost:8080/",
     "height": 319,
     "referenced_widgets": [
      "ace22899c5bc45a1a061ba10a3e2ff97",
      "203ee91f71e948169f0e06e1de584956",
      "906b7b44ac364189b7f9a6ad8cb975db",
      "0887602052a241db9a25d72401f7e375",
      "0127a5fce26441cfbb495664f8d24061",
      "8a65aca3fdae494889e126b5623c075c",
      "ab1ae76571e94ec39432de50451cde09",
      "59a62044ae9a4b18842e0cef97500942",
      "c5e1e9881e4a49fb970fbb412e25ff1e",
      "4fd734bb682f4bc89b89e8ea18b4525d",
      "70416961097d410ca31cd88ad4fd3ba1",
      "8e434eff8b3b453585e4b2e6ef64cc04",
      "6df591246609479aa5ac885ba6e69995",
      "aa335a1a3db14e07aede85930d43fca0",
      "2aa73e9605fe44be80ac4c66b299c4a4",
      "5d767575b5dc49e6ad95bb29efb58907",
      "eae392773d684fcd9a8128ca76dcec2d",
      "1b157502e42941eab9f6ed46a5e02d07",
      "9640d2ba65444233afb52a300d95f636",
      "c03c6a43d52746258fec13a43fc6e602",
      "01a756678b62454785e9c336107ecc0a",
      "d79a2ddc95ae446f9cb733d61b443f98",
      "83a84b031dfa4f0ebdde9fb42ab1d9f5",
      "6c7263586fe74f608f7b62f3ba83cecc",
      "0540adbea38b4a94b9c001ba765596db",
      "0e0a2f3cf5334898b3d5f9b1bb4f2075",
      "6ad402d2c031433c8808046c57ed14cf",
      "99fd9a8c47be444baaf0b69325db914f",
      "7b9c98360e014109b222ea89fd169d4a",
      "f3b5fd8d3b9e4874b143afa6764eff58",
      "8a413dc2d4454a82be15a86582d70693",
      "467071cb881f480d9fef7d34e916e95b",
      "5faf24f2890947c48d94fe4b5f8c7c05",
      "161e7036e3ce48aa8a8164686fa5cb75",
      "7260f9584a774ba08a5fd38fcdad6cc8",
      "1e54e8650b6c4652b8ac894bf7492caf",
      "c871d0dea3a94ed48ea83b33313efa13",
      "565ed47ef2ae4c25a88059101245f8de",
      "f5a92dc8a08b42deb0777d58252fefed",
      "26ff53fc40ee45dc938348b74cdd1263",
      "7d74ad82229545208a6bd561209b5f6e",
      "534ffe27a6374872ae3471b61eb09326",
      "9be6ab151c3b497dad960d87456d64d8",
      "60f7858ce8eb425d95276c4db8d2bb47"
     ]
    },
    "executionInfo": {
     "elapsed": 30943,
     "status": "ok",
     "timestamp": 1761652182113,
     "user": {
      "displayName": "Kanisa Thiak",
      "userId": "11456701695554532163"
     },
     "user_tz": -120
    },
    "id": "paZk1JJUe7-p",
    "outputId": "d304c869-e9ca-487b-f86d-9827d722ed4e"
   },
   "outputs": [
    {
     "data": {
      "application/vnd.jupyter.widget-view+json": {
       "model_id": "ace22899c5bc45a1a061ba10a3e2ff97",
       "version_major": 2,
       "version_minor": 0
      },
      "text/plain": [
       "Downloading builder script: 0.00B [00:00, ?B/s]"
      ]
     },
     "metadata": {},
     "output_type": "display_data"
    },
    {
     "data": {
      "application/vnd.jupyter.widget-view+json": {
       "model_id": "8e434eff8b3b453585e4b2e6ef64cc04",
       "version_major": 2,
       "version_minor": 0
      },
      "text/plain": [
       "Downloading builder script: 0.00B [00:00, ?B/s]"
      ]
     },
     "metadata": {},
     "output_type": "display_data"
    },
    {
     "data": {
      "application/vnd.jupyter.widget-view+json": {
       "model_id": "83a84b031dfa4f0ebdde9fb42ab1d9f5",
       "version_major": 2,
       "version_minor": 0
      },
      "text/plain": [
       "Downloading extra modules:   0%|          | 0.00/1.55k [00:00<?, ?B/s]"
      ]
     },
     "metadata": {},
     "output_type": "display_data"
    },
    {
     "data": {
      "application/vnd.jupyter.widget-view+json": {
       "model_id": "161e7036e3ce48aa8a8164686fa5cb75",
       "version_major": 2,
       "version_minor": 0
      },
      "text/plain": [
       "Downloading extra modules: 0.00B [00:00, ?B/s]"
      ]
     },
     "metadata": {},
     "output_type": "display_data"
    },
    {
     "name": "stdout",
     "output_type": "stream",
     "text": [
      "\n",
      "=== Quantitative Evaluation Results ===\n",
      "BLEU Score: 0.1428\n",
      "Average F1-Score: 0.7287\n",
      "Perplexity: 1.1171\n",
      "ROUGE Scores:\n",
      "  rouge1: 0.2803\n",
      "  rouge2: 0.2666\n",
      "  rougeL: 0.2804\n",
      "  rougeLsum: 0.2813\n"
     ]
    }
   ],
   "source": [
    "# Cell 12: Model Evaluation (Improved)\n",
    "import torch\n",
    "import evaluate\n",
    "import numpy as np\n",
    "from sklearn.metrics import f1_score\n",
    "\n",
    "def evaluate_model(model, tokenizer, test_df):\n",
    "    \"\"\"Evaluate model performance using BLEU, ROUGE, F1-score, and Perplexity.\"\"\"\n",
    "\n",
    "    # Load metrics\n",
    "    rouge = evaluate.load('rouge')\n",
    "    bleu = evaluate.load('bleu')\n",
    "\n",
    "    # Device setup\n",
    "    device = torch.device(\"cuda\" if torch.cuda.is_available() else \"cpu\")\n",
    "    model.to(device)\n",
    "    model.eval()\n",
    "\n",
    "    # Evaluation data\n",
    "    test_samples = test_df.head(10)\n",
    "    predictions, references, f1_labels, f1_preds = [], [], [], []\n",
    "\n",
    "    for _, row in test_samples.iterrows():\n",
    "        input_text = f\"User: {row['input']}\\nAssistant:\"\n",
    "        inputs = tokenizer.encode(input_text, return_tensors='pt').to(device)\n",
    "\n",
    "        with torch.no_grad():\n",
    "            outputs = model.generate(\n",
    "                inputs,\n",
    "                max_length=config.MAX_LENGTH,\n",
    "                num_return_sequences=1,\n",
    "                pad_token_id=tokenizer.eos_token_id,\n",
    "                attention_mask=inputs.ne(tokenizer.pad_token_id).to(device)\n",
    "            )\n",
    "\n",
    "        prediction = tokenizer.decode(outputs[0], skip_special_tokens=True)\n",
    "        reference = row['response']\n",
    "\n",
    "        predictions.append(prediction)\n",
    "        references.append(reference)\n",
    "\n",
    "        # Convert for F1 computation (simplified word-level binary match)\n",
    "        pred_tokens = set(prediction.lower().split())\n",
    "        ref_tokens = set(reference.lower().split())\n",
    "        common = pred_tokens.intersection(ref_tokens)\n",
    "\n",
    "        if len(ref_tokens) > 0:\n",
    "            precision = len(common) / len(pred_tokens) if pred_tokens else 0\n",
    "            recall = len(common) / len(ref_tokens)\n",
    "            f1 = (2 * precision * recall / (precision + recall)) if (precision + recall) > 0 else 0\n",
    "        else:\n",
    "            f1 = 0\n",
    "        f1_labels.append(1)\n",
    "        f1_preds.append(f1)\n",
    "\n",
    "    # Compute metrics\n",
    "    rouge_results = rouge.compute(predictions=predictions, references=references)\n",
    "    bleu_results = bleu.compute(predictions=predictions, references=references)\n",
    "    avg_f1 = np.mean(f1_preds)\n",
    "\n",
    "    # Compute Perplexity (based on negative log-likelihood)\n",
    "    total_loss = 0\n",
    "    total_tokens = 0\n",
    "    for _, row in test_samples.iterrows():\n",
    "        input_text = f\"User: {row['input']}\\nAssistant: {row['response']}\"\n",
    "        inputs = tokenizer(input_text, return_tensors=\"pt\").to(device)\n",
    "        with torch.no_grad():\n",
    "            loss = model(**inputs, labels=inputs[\"input_ids\"]).loss\n",
    "        total_loss += loss.item() * inputs[\"input_ids\"].size(1)\n",
    "        total_tokens += inputs[\"input_ids\"].size(1)\n",
    "    perplexity = np.exp(total_loss / total_tokens)\n",
    "\n",
    "    # Print summary\n",
    "    print(\"\\n=== Quantitative Evaluation Results ===\")\n",
    "    print(f\"BLEU Score: {bleu_results['bleu']:.4f}\")\n",
    "    print(f\"Average F1-Score: {avg_f1:.4f}\")\n",
    "    print(f\"Perplexity: {perplexity:.4f}\")\n",
    "    print(\"ROUGE Scores:\")\n",
    "    for k, v in rouge_results.items():\n",
    "        print(f\"  {k}: {v:.4f}\")\n",
    "\n",
    "    return predictions, references, {\n",
    "        \"BLEU\": bleu_results['bleu'],\n",
    "        \"F1\": avg_f1,\n",
    "        \"Perplexity\": perplexity,\n",
    "        \"ROUGE\": rouge_results\n",
    "    }\n",
    "\n",
    "\n",
    "# Run evaluation safely\n",
    "try:\n",
    "    predictions, references, metrics = evaluate_model(model, tokenizer, test_df)\n",
    "except Exception as e:\n",
    "    print(f\"Evaluation error: {e}\")\n",
    "    metrics = {}\n"
   ]
  },
  {
   "cell_type": "code",
   "execution_count": 13,
   "metadata": {
    "executionInfo": {
     "elapsed": 198,
     "status": "ok",
     "timestamp": 1761652182316,
     "user": {
      "displayName": "Kanisa Thiak",
      "userId": "11456701695554532163"
     },
     "user_tz": -120
    },
    "id": "xzrd0UPMgR8a"
   },
   "outputs": [],
   "source": [
    "# Cell 13: Create Chatbot Interface (Fixed)\n",
    "def create_chatbot(model, tokenizer):\n",
    "    \"\"\"Create Gradio interface for the chatbot\"\"\"\n",
    "\n",
    "    # Move model to appropriate device\n",
    "    device = torch.device(\"cuda\" if torch.cuda.is_available() else \"cpu\")\n",
    "    model.to(device)\n",
    "    model.eval()\n",
    "\n",
    "    def respond(message, history):\n",
    "        # Format input\n",
    "        input_text = f\"User: {message}\\nAssistant:\"\n",
    "        inputs = tokenizer.encode(input_text, return_tensors='pt').to(device)\n",
    "\n",
    "        # Generate response\n",
    "        with torch.no_grad():\n",
    "            outputs = model.generate(\n",
    "                inputs,\n",
    "                max_length=config.MAX_LENGTH,\n",
    "                num_return_sequences=1,\n",
    "                temperature=0.7,\n",
    "                do_sample=True,\n",
    "                pad_token_id=tokenizer.eos_token_id,\n",
    "                attention_mask=inputs.ne(tokenizer.pad_token_id).to(device)  # Add attention mask\n",
    "            )\n",
    "\n",
    "        response = tokenizer.decode(outputs[0], skip_special_tokens=True)\n",
    "        # Extract only the assistant's response\n",
    "        if \"Assistant:\" in response:\n",
    "            assistant_response = response.split(\"Assistant:\")[-1].strip()\n",
    "        else:\n",
    "            assistant_response = response.replace(\"User: \" + message, \"\").strip()\n",
    "\n",
    "        return assistant_response\n",
    "\n",
    "    return gr.ChatInterface(\n",
    "        respond,\n",
    "        title=\"MediBot Africa - Healthcare Assistant\",\n",
    "        description=\"Ask medical questions and get professional responses\",\n",
    "        examples=[\n",
    "            \"What are the symptoms of malaria?\",\n",
    "            \"How can I prevent typhoid?\",\n",
    "            \"What should I do for a high fever?\"\n",
    "        ]\n",
    "    )\n",
    "\n",
    "# Create interface\n",
    "chatbot = create_chatbot(model, tokenizer)"
   ]
  },
  {
   "cell_type": "code",
   "execution_count": 14,
   "metadata": {
    "colab": {
     "base_uri": "https://localhost:8080/",
     "height": 411,
     "referenced_widgets": [
      "4d779b8155114a96b3680ab40ae305b3",
      "2f88fac3a7554251a9ed70db459d6db9",
      "2d0ba022dd7a4f069239587c51820282",
      "6a2db799559346c0bb0ab43f9ca7bd6e",
      "1a772906c8e34634a45956efb1fd8a32",
      "9ebd0b9fa58242f2a675a69322305b1f",
      "a79296e0538f46f29253dfffd326c9a3",
      "af9b4d33bce044b784697450c21a3a0e",
      "780a8f75bc0b4f638057e6871779384a",
      "ddcdf9e8d7f04b2f85527f605a6d2e68",
      "8bef4525424e419a964b7d2ca483e01c",
      "c89b5da2b8484b1bb452dacef49ca617",
      "fe8677d336ba425981318ec372fe4b56",
      "573c1e91dd97478890ec1e420e1d2faf",
      "4c22b4bc62ed4f63b946cf0bb821dec4",
      "e16407b7c1e44463b145cd8a5dea6c12",
      "3b504ac9ac1b4bb591f737f9fb4be024"
     ]
    },
    "executionInfo": {
     "elapsed": 194,
     "status": "ok",
     "timestamp": 1761652182515,
     "user": {
      "displayName": "Kanisa Thiak",
      "userId": "11456701695554532163"
     },
     "user_tz": -120
    },
    "id": "a_pTgee3ghtY",
    "outputId": "9b508b6f-e6fc-4c06-b148-323ffc3bbcc7"
   },
   "outputs": [
    {
     "data": {
      "application/vnd.jupyter.widget-view+json": {
       "model_id": "4d779b8155114a96b3680ab40ae305b3",
       "version_major": 2,
       "version_minor": 0
      },
      "text/plain": [
       "VBox(children=(HTML(value='<center> <img\\nsrc=https://huggingface.co/front/assets/huggingface_logo-noborder.sv…"
      ]
     },
     "metadata": {},
     "output_type": "display_data"
    },
    {
     "name": "stdout",
     "output_type": "stream",
     "text": [
      "Hugging Face Hub setup complete!\n",
      "Note: Model card will be created separately\n",
      "Basic model card created!\n"
     ]
    }
   ],
   "source": [
    "# Cell 14: Basic Hugging Face Setup\n",
    "def setup_huggingface():\n",
    "    \"\"\"Basic Hugging Face setup without model card\"\"\"\n",
    "    try:\n",
    "        notebook_login()\n",
    "        api = HfApi()\n",
    "        print(\"Hugging Face Hub setup complete!\")\n",
    "        print(\"Note: Model card will be created separately\")\n",
    "        return api\n",
    "    except Exception as e:\n",
    "        print(f\"Hugging Face setup failed: {e}\")\n",
    "        return None\n",
    "\n",
    "def create_simple_model_card():\n",
    "    \"\"\"Create a very basic model card\"\"\"\n",
    "    basic_card = \"---\\nlanguage: en\\ntags:\\n- medical\\n- chatbot\\nlicense: apache-2.0\\n---\\n\\n# MediBot Africa\\n\\nHealthcare chatbot for African contexts.\"\n",
    "\n",
    "    with open(f\"{config.OUTPUT_DIR}/README.md\", \"w\") as f:\n",
    "        f.write(basic_card)\n",
    "\n",
    "    print(\"Basic model card created!\")\n",
    "\n",
    "# Execute minimal version\n",
    "hf_api = setup_huggingface()\n",
    "create_simple_model_card()"
   ]
  },
  {
   "cell_type": "code",
   "execution_count": 15,
   "metadata": {
    "colab": {
     "base_uri": "https://localhost:8080/"
    },
    "executionInfo": {
     "elapsed": 11843,
     "status": "ok",
     "timestamp": 1761652194361,
     "user": {
      "displayName": "Kanisa Thiak",
      "userId": "11456701695554532163"
     },
     "user_tz": -120
    },
    "id": "j2Y5MzGZmXQL",
    "outputId": "2cfc0faa-42d6-4b4a-b034-956707378246"
   },
   "outputs": [
    {
     "name": "stderr",
     "output_type": "stream",
     "text": [
      "The attention mask is not set and cannot be inferred from input because pad token is same as eos token. As a consequence, you may observe unexpected behavior. Please pass your input's `attention_mask` to obtain reliable results.\n"
     ]
    },
    {
     "name": "stdout",
     "output_type": "stream",
     "text": [
      "Testing MediBot with sample questions:\n",
      "\n",
      "Q: What are the symptoms of malaria?\n",
      "A: Early signs of malaria include cough, fever, and difficulty breathing. Seek medical attention promptly. Seek medical attention promptly. Seek medical attention promptly. Seek medical attention promptly. Seek medical attention promptly. Seek medical attention promptly. Seek medical attention promptly. Seek medical attention promptly. Seek medical attention promptly. Seek medical attention promptly. Seek medical attention promptly. Seek medical attention promptly. Seek medical attention promptly. Seek medical attention promptly. Seek medical attention promptly. Seek medical attention promptly. Seek medical attention promptly. Seek medical attention promptly. Seek medical attention promptly. Seek medical attention promptly. Seek medical attention\n",
      "--------------------------------------------------------------------------------\n",
      "Q: How can I prevent typhoid?\n",
      "A: Wash your hands, avoid raw foods, drink safe water, and get vaccinated where available. Seek medical attention if you develop fever or chills. Seek medical attention if you develop headache. Seek rest if needed. Seek medical attention if needed. Seek medical attention if needed. Seek medical attention if needed. Seek rest if needed. Seek medical attention if needed. Seek medical attention if needed. Seek rest if needed. Seek medical attention if needed. Seek rest if needed. Seek rest if needed. Seek rest if needed. Seek rest if needed. Seek rest if needed. Seek rest if\n",
      "--------------------------------------------------------------------------------\n",
      "Q: What should I do for a high fever?\n",
      "A: High fever requires prompt medical attention. Drink fluids and rest. Seek medical attention if needed. Seek medical attention if needed. Seek medical attention if needed. Seek medical attention if needed. Seek medical attention if needed. Seek medical attention if needed. Seek medical attention if needed. Seek medical attention if needed. Seek medical attention if needed. Seek medical attention if needed. Seek medical attention if needed. Seek medical attention if needed. Seek medical attention if needed. Seek medical attention if needed. Seek medical attention if needed. Seek medical attention if needed. Seek medical attention if needed.\n",
      "--------------------------------------------------------------------------------\n",
      "Q: When should I take my child for vaccination?\n",
      "A: Early signs of pneumonia include cough, fever, and difficulty breathing. Seek medical attention promptly. Seek medical attention promptly. Seek medical attention promptly. Seek medical attention promptly. Seek medical attention promptly. Seek medical attention promptly. Seek medical attention promptly. Seek medical attention promptly. Seek medical attention promptly. Seek medical attention promptly. Seek medical attention promptly. Seek medical attention promptly. Seek medical attention promptly. Seek medical attention promptly. Seek medical attention promptly. Seek medical attention promptly. Seek medical attention promptly. Seek medical attention promptly. Seek medical attention promptly. Seek medical attention promptly. Seek\n",
      "--------------------------------------------------------------------------------\n",
      "Q: How to manage stress and anxiety?\n",
      "A: Try relaxation techniques and consult a counselor if anxiety persists. Seek medical attention if needed. Seek support from a healthcare professional if needed. Seek help if needed. Seek medical attention if needed. Seek support from a healthcare professional if needed. Seek support from a counselor if needed. Seek help if needed. Seek medical attention if needed. Seek help if needed. Seek support from a counselor if needed. Seek help if needed. Seek support from a counselor if needed. Seek help if needed. Seek help if needed. Seek support from a counselor if needed. Seek help if needed. Seek help\n",
      "--------------------------------------------------------------------------------\n"
     ]
    }
   ],
   "source": [
    "# Cell 19: Test the Trained Model\n",
    "def test_trained_model():\n",
    "    \"\"\"Test the fine-tuned model with sample medical questions\"\"\"\n",
    "\n",
    "    # Load the trained model and tokenizer\n",
    "    model_path = config.OUTPUT_DIR\n",
    "    tokenizer = AutoTokenizer.from_pretrained(model_path)\n",
    "    model = AutoModelForCausalLM.from_pretrained(model_path)\n",
    "\n",
    "    # Move to device\n",
    "    device = torch.device(\"cuda\" if torch.cuda.is_available() else \"cpu\")\n",
    "    model.to(device)\n",
    "    model.eval()\n",
    "\n",
    "    test_questions = [\n",
    "        \"What are the symptoms of malaria?\",\n",
    "        \"How can I prevent typhoid?\",\n",
    "        \"What should I do for a high fever?\",\n",
    "        \"When should I take my child for vaccination?\",\n",
    "        \"How to manage stress and anxiety?\"\n",
    "    ]\n",
    "\n",
    "    print(\"Testing MediBot with sample questions:\\n\")\n",
    "\n",
    "    for question in test_questions:\n",
    "        input_text = f\"User: {question}\\nAssistant:\"\n",
    "        inputs = tokenizer.encode(input_text, return_tensors='pt').to(device)\n",
    "\n",
    "        with torch.no_grad():\n",
    "            outputs = model.generate(\n",
    "                inputs,\n",
    "                max_length=config.MAX_LENGTH,\n",
    "                num_return_sequences=1,\n",
    "                temperature=0.7,\n",
    "                do_sample=True,\n",
    "                pad_token_id=tokenizer.eos_token_id\n",
    "            )\n",
    "\n",
    "        response = tokenizer.decode(outputs[0], skip_special_tokens=True)\n",
    "        assistant_response = response.split(\"Assistant:\")[-1].strip()\n",
    "\n",
    "        print(f\"Q: {question}\")\n",
    "        print(f\"A: {assistant_response}\")\n",
    "        print(\"-\" * 80)\n",
    "\n",
    "# Test the model\n",
    "test_trained_model()"
   ]
  },
  {
   "cell_type": "code",
   "execution_count": 16,
   "metadata": {
    "colab": {
     "base_uri": "https://localhost:8080/"
    },
    "executionInfo": {
     "elapsed": 18,
     "status": "ok",
     "timestamp": 1761652194384,
     "user": {
      "displayName": "Kanisa Thiak",
      "userId": "11456701695554532163"
     },
     "user_tz": -120
    },
    "id": "NSYIJKJVoF52",
    "outputId": "ea9a90b8-478d-45d6-ae12-9cfcbf0a8ffb"
   },
   "outputs": [
    {
     "name": "stdout",
     "output_type": "stream",
     "text": [
      "Error pushing to Hub: Token is required (`token=True`), but no token found. You need to provide a token or be logged in to Hugging Face with `hf auth login` or `huggingface_hub.login`. See https://huggingface.co/settings/tokens.\n"
     ]
    }
   ],
   "source": [
    "# Cell 20: Fixed Push to Hugging Face Hub\n",
    "def push_to_hub():\n",
    "    \"\"\"Push the model to Hugging Face Hub\"\"\"\n",
    "    try:\n",
    "        if hf_api is not None:\n",
    "            # Get your username\n",
    "            user_info = hf_api.whoami()\n",
    "            username = user_info['name']\n",
    "            print(f\"Logged in as: {username}\")\n",
    "\n",
    "            # Create repository with full name including username\n",
    "            repo_name = f\"{username}/medibot-africa\"\n",
    "            repo_url = hf_api.create_repo(repo_name, exist_ok=True)\n",
    "            print(f\"Repository created: {repo_url}\")\n",
    "\n",
    "            # Upload model files\n",
    "            print(\"Uploading model files...\")\n",
    "            hf_api.upload_folder(\n",
    "                folder_path=config.OUTPUT_DIR,\n",
    "                repo_id=repo_name,\n",
    "                repo_type=\"model\"\n",
    "            )\n",
    "            print(\"Model pushed to Hugging Face Hub successfully!\")\n",
    "            return repo_url\n",
    "        else:\n",
    "            print(\"Hugging Face API not available. Please setup Hugging Face first.\")\n",
    "            return None\n",
    "    except Exception as e:\n",
    "        print(f\"Error pushing to Hub: {e}\")\n",
    "        return None\n",
    "\n",
    "# Push model\n",
    "repo_url = push_to_hub()"
   ]
  },
  {
   "cell_type": "code",
   "execution_count": 17,
   "metadata": {
    "colab": {
     "base_uri": "https://localhost:8080/",
     "height": 1000,
     "referenced_widgets": [
      "bc5841dfaa8b4dd2a5e9f7c19186d5a4",
      "3f5d9ecb6cb94c729d5a526aeb6e8a01",
      "d280c5bf1d324fa89c310f3c4d64faa8",
      "093a05741d184cb1b6102635e8885d41",
      "13050df6b49548df983ae9499b9949ef",
      "9c0bf20758e94aa0b2a984cad3ef7b45",
      "787aaa2ca7e446f2bc60839b2656495c",
      "ef4e1364bd6f4a2aaf6c9940452d02af",
      "ecc11cf29ddb4bfbb62bf34950fe1c51",
      "7bf9e1ea56974c0a864d981e190bf370",
      "bf27abe4367d4507b77512321effff83",
      "c63b2b017bdc44778c8075f4a7740589",
      "150afe7abb684467820acd244f2bdac1",
      "a6cb1a43b4c447908a30198915989e53",
      "a34171feba3a4a189f27d88961cf49cb",
      "31047d3ab7ae467a87b36e35ac50feea",
      "0afdb47b090c47509995c40d237d17a2",
      "e8309e6e495f48a692ce2e78f06ca7be",
      "396e62f618b644c3991a97b4eea48261",
      "c9a3d7b8cc4f4dddae2c5c68f773a6d4",
      "e81db98524da4c9096d92ec9e5118a9c",
      "6cb9edeb747742b2a5b3ea198151b171",
      "43436adc65b44252a5283ef5b38ccd85",
      "97808c083b81444b97cbc615fce73cb1",
      "73ce1b1d0e5f4feb96d522b0cff9a915",
      "498617cdf01f476fba79c835c2978732",
      "3e21b60d7a9342d898b34ff0d7452c3f",
      "10cb724283a847c581b822cef6e77783",
      "08633113afb344f1a0196e90a2ddbb66",
      "754f783ef6184dd5bd303e73621f7083",
      "3bc4144723144f92922a6f9b6dd53305",
      "c92df1ddb59749e585ced401893d687d",
      "bb22cdd15bde4d89a314252cc97a8f97",
      "4198dd5c310d4b919b85f7a810f76546",
      "43a8a199f5544761a59db56109ef501b",
      "b6a047e294074697b477f2d8a32fb1ba",
      "dd8b9f18e686473ea0e872f2954a64cb",
      "2274d1e88d344e4a916bc15c42a8dfa8",
      "f660b2e6a7a646f1876797226d71e796",
      "263722e995ed442685893f7eda1e889a",
      "3261843b4ce84fb3aa0c0083ef13afb9",
      "10c0d2a15f104d07aab9182282328476",
      "9ae853d073904f4686c3f097cf7bb67b",
      "e7736942c8b94338af881069fe5e9399",
      "5251ed5986b44f7f8f604b7bafc242dc",
      "4af0e2469d57444c9dbc03c32b89888f",
      "915d8a80736744e7981f660928d79435",
      "34939c0c0b33469594bef9fcf0c8c50b",
      "70f9b416b2ef4bef89c4cf711ee93ac1",
      "c376e5eeac4e46339fdcf06b9a4b7006",
      "6f7c495fa03a4ab3800e0d9501201bd6",
      "bd61f0fbd3f84397b6238f500fa721a6",
      "6dbabc1d91964e52b5f8fe82bd08f1b7",
      "e5bb3c3a0b1b4a089386d5a8914f2dff",
      "1a1c373641fe452b99f428eea7db4d27",
      "e0e57263d9884a90aefaf74ec195bc3f",
      "f318e0fb34c146c9b3e3ed7faed23e05",
      "a51968cac35641cfba375f1a90aff1b2",
      "50ef537bf08842b289c33d1c7a026251",
      "53804b35f1d14fd4995846a9653d2bd1",
      "5a875d7e8a824364990accb57e7b6aee",
      "784a77cf1597432c859dee679ca5c9f3",
      "c23af95e08cb47888f72a417515e7ef6",
      "ab39f14b8f01447d91cabb57b9d2d62a",
      "2bb8e2cc1cc74185b98902242166ff8c",
      "748e4814b8ad4b6bbc0775bbddab608e",
      "3b6e25b25dbf424dbce1f884bce811e0",
      "b915a3c7e37049f4b164d16ac7eaff16",
      "6e14c561e70548f0b983a1c76dc9e68f",
      "c29d0919646942efb3f4d3b0d24012ee",
      "db817ecfbb0545bd84689b63779d9f68",
      "7452503ad62c433ea2e3dc26eb430037",
      "9a8b3809aa6f431d8c7aa3d7cb28e757",
      "5cd3085c581e414297af678ca3efe193",
      "d7730cb8c10241bca927dedbc3510ef7",
      "968314f556e04817bdbb6f39ee6f0935",
      "0e7e33452742479c8c7b35cc46a5d16c",
      "ad9c8293f7454a81a3bd33f7bc828573",
      "808229bfa5b442998266e4c12d26e308",
      "ae4d6277ed8f4faeba56ff92963968c9",
      "ac52ab02376446e699b07f47e29ceb0f",
      "1ab3848ad8784a18a4b85ee1bba864cf",
      "347a44dab7584610a5d9025001c0c2da",
      "1c1f5043cf71441e9ed8bd74c3891888",
      "e1274ffccfb24d99ac9ed06d2308d108",
      "21bf240fcfb146548eeec6dedf949bfb",
      "e41f485376384ff1b1597abb63e44499",
      "88d208ae2817428ab2e3f8afb13d832c",
      "bc0820d27da24b8dbb5bedc1bd2cc08e",
      "0b3f2d116a6949c79ce4a7b9f0f5e4a9",
      "00ffe64fd0be44769c56e240ef326023",
      "1e0b05e697614a71bdaf90a1aca30e42",
      "e8c3c83e1bab442891d61f0c32cd41eb",
      "8c1c780204d946ca8872c5cafd2c2d7f",
      "b5ee41b4f431493d81eef3530801f755",
      "0b29a3ad7f5c45dfbbf735d6bc9c4ab7",
      "30aedfa8c10b41fab03f69a1ddc9c318",
      "a9b4366fe9854318b52fe9ffe9573c57",
      "95914c327ee94420a183f7c9932637ef",
      "26156ba430364ce6a7852ef06960ebb7",
      "3cc857f485904105b9dd53b3d7340bff",
      "8f7152c287b948edab5d7c98e70fb9f6",
      "d401c195d4494cd2a1a8db905b275f39",
      "4c2311e140874610bc7aa876b71d02b2",
      "a374e5b9a9d748d882288c7d262f1ce4",
      "4a56522239ac44d9b75e2151ce21d2a3",
      "fef2f86dc498443bb1e399cfbb7a7f69",
      "4c477e7fb8ac4b04a59fe32d1f36abb2",
      "9a06d3ca3b7c4d69bf786fe11b6ec1e9",
      "77ebf78247c341af9bc087f6927c1e7a",
      "c6a1afb4d9484512a2eb54a3be0ebab3",
      "e69ff9b9317146feb82f56a101f3a8a3",
      "266156fe8ddf4c67a2ec780077767f1b",
      "0e2a3a22ee64475587bccf237f4bb619",
      "d1aa8bbc75544422808fc80b481aab10",
      "b9de2ec1334e452eac26202b18f846cd",
      "9c0da7a299654cda917696035f50b1ca",
      "1eaab0a5973447318846748dbae1c573",
      "3b437aa5af18401babca7d50ec55120e",
      "164fbd7d122142c8ae4593f67f18719a",
      "4de62c0a5f5e4c4eba5bab7f887b5c78"
     ]
    },
    "executionInfo": {
     "elapsed": 261889,
     "status": "ok",
     "timestamp": 1761652456280,
     "user": {
      "displayName": "Kanisa Thiak",
      "userId": "11456701695554532163"
     },
     "user_tz": -120
    },
    "id": "U-yCsWHpoiue",
    "outputId": "1fcd6442-29de-4c24-b748-18222bf64724"
   },
   "outputs": [
    {
     "name": "stdout",
     "output_type": "stream",
     "text": [
      "Loading complete medical knowledge base...\n",
      "Dataset loaded: 2000 Q&A pairs\n",
      "Categories: ['Pneumonia', 'Typhoid', 'General Health', 'Consultation', 'Malaria', 'Women & Child Health', 'Nutrition & Wellness', 'Mental Health', 'First Aid & Emergencies']\n",
      "Loading similarity model...\n"
     ]
    },
    {
     "data": {
      "application/vnd.jupyter.widget-view+json": {
       "model_id": "bc5841dfaa8b4dd2a5e9f7c19186d5a4",
       "version_major": 2,
       "version_minor": 0
      },
      "text/plain": [
       "modules.json:   0%|          | 0.00/349 [00:00<?, ?B/s]"
      ]
     },
     "metadata": {},
     "output_type": "display_data"
    },
    {
     "data": {
      "application/vnd.jupyter.widget-view+json": {
       "model_id": "c63b2b017bdc44778c8075f4a7740589",
       "version_major": 2,
       "version_minor": 0
      },
      "text/plain": [
       "config_sentence_transformers.json:   0%|          | 0.00/116 [00:00<?, ?B/s]"
      ]
     },
     "metadata": {},
     "output_type": "display_data"
    },
    {
     "data": {
      "application/vnd.jupyter.widget-view+json": {
       "model_id": "43436adc65b44252a5283ef5b38ccd85",
       "version_major": 2,
       "version_minor": 0
      },
      "text/plain": [
       "README.md: 0.00B [00:00, ?B/s]"
      ]
     },
     "metadata": {},
     "output_type": "display_data"
    },
    {
     "data": {
      "application/vnd.jupyter.widget-view+json": {
       "model_id": "4198dd5c310d4b919b85f7a810f76546",
       "version_major": 2,
       "version_minor": 0
      },
      "text/plain": [
       "sentence_bert_config.json:   0%|          | 0.00/53.0 [00:00<?, ?B/s]"
      ]
     },
     "metadata": {},
     "output_type": "display_data"
    },
    {
     "data": {
      "application/vnd.jupyter.widget-view+json": {
       "model_id": "5251ed5986b44f7f8f604b7bafc242dc",
       "version_major": 2,
       "version_minor": 0
      },
      "text/plain": [
       "config.json:   0%|          | 0.00/612 [00:00<?, ?B/s]"
      ]
     },
     "metadata": {},
     "output_type": "display_data"
    },
    {
     "data": {
      "application/vnd.jupyter.widget-view+json": {
       "model_id": "e0e57263d9884a90aefaf74ec195bc3f",
       "version_major": 2,
       "version_minor": 0
      },
      "text/plain": [
       "model.safetensors:   0%|          | 0.00/90.9M [00:00<?, ?B/s]"
      ]
     },
     "metadata": {},
     "output_type": "display_data"
    },
    {
     "data": {
      "application/vnd.jupyter.widget-view+json": {
       "model_id": "3b6e25b25dbf424dbce1f884bce811e0",
       "version_major": 2,
       "version_minor": 0
      },
      "text/plain": [
       "tokenizer_config.json:   0%|          | 0.00/350 [00:00<?, ?B/s]"
      ]
     },
     "metadata": {},
     "output_type": "display_data"
    },
    {
     "data": {
      "application/vnd.jupyter.widget-view+json": {
       "model_id": "ad9c8293f7454a81a3bd33f7bc828573",
       "version_major": 2,
       "version_minor": 0
      },
      "text/plain": [
       "vocab.txt: 0.00B [00:00, ?B/s]"
      ]
     },
     "metadata": {},
     "output_type": "display_data"
    },
    {
     "data": {
      "application/vnd.jupyter.widget-view+json": {
       "model_id": "bc0820d27da24b8dbb5bedc1bd2cc08e",
       "version_major": 2,
       "version_minor": 0
      },
      "text/plain": [
       "tokenizer.json: 0.00B [00:00, ?B/s]"
      ]
     },
     "metadata": {},
     "output_type": "display_data"
    },
    {
     "data": {
      "application/vnd.jupyter.widget-view+json": {
       "model_id": "26156ba430364ce6a7852ef06960ebb7",
       "version_major": 2,
       "version_minor": 0
      },
      "text/plain": [
       "special_tokens_map.json:   0%|          | 0.00/112 [00:00<?, ?B/s]"
      ]
     },
     "metadata": {},
     "output_type": "display_data"
    },
    {
     "data": {
      "application/vnd.jupyter.widget-view+json": {
       "model_id": "c6a1afb4d9484512a2eb54a3be0ebab3",
       "version_major": 2,
       "version_minor": 0
      },
      "text/plain": [
       "config.json:   0%|          | 0.00/190 [00:00<?, ?B/s]"
      ]
     },
     "metadata": {},
     "output_type": "display_data"
    },
    {
     "name": "stdout",
     "output_type": "stream",
     "text": [
      "Computing embeddings for all questions...\n",
      "Ready! Loaded 2000 questions across 9 categories\n",
      "Launching Professional Medical Knowledge Chatbot ...\n",
      "Colab notebook detected. This cell will run indefinitely so that you can see errors and logs. To turn off, set debug=False in launch().\n",
      "* Running on public URL: https://ca4818596dc7b98fec.gradio.live\n",
      "\n",
      "This share link expires in 1 week. For free permanent hosting and GPU upgrades, run `gradio deploy` from the terminal in the working directory to deploy to Hugging Face Spaces (https://huggingface.co/spaces)\n"
     ]
    },
    {
     "data": {
      "text/html": [
       "<div><iframe src=\"https://ca4818596dc7b98fec.gradio.live\" width=\"100%\" height=\"500\" allow=\"autoplay; camera; microphone; clipboard-read; clipboard-write;\" frameborder=\"0\" allowfullscreen></iframe></div>"
      ],
      "text/plain": [
       "<IPython.core.display.HTML object>"
      ]
     },
     "metadata": {},
     "output_type": "display_data"
    },
    {
     "name": "stdout",
     "output_type": "stream",
     "text": [
      "Keyboard interruption in main thread... closing server.\n",
      "Killing tunnel 127.0.0.1:7860 <> https://ca4818596dc7b98fec.gradio.live\n"
     ]
    },
    {
     "data": {
      "text/plain": []
     },
     "execution_count": 17,
     "metadata": {},
     "output_type": "execute_result"
    }
   ],
   "source": [
    "# Cell 21: Healthcare-Professional Medical Chatbot Interface\n",
    "import gradio as gr\n",
    "import pandas as pd\n",
    "import json\n",
    "import re\n",
    "from sentence_transformers import SentenceTransformer\n",
    "import numpy as np\n",
    "from sklearn.metrics.pairwise import cosine_similarity\n",
    "import time\n",
    "\n",
    "class CompleteMedicalChatbot:\n",
    "    def __init__(self, data_path='medibot_dataset.json'):\n",
    "        print(\"Loading complete medical knowledge base...\")\n",
    "\n",
    "        # Load your actual dataset\n",
    "        with open(data_path, 'r') as f:\n",
    "            data = json.load(f)\n",
    "        self.df = pd.DataFrame(data)\n",
    "\n",
    "        print(f\"Dataset loaded: {len(self.df)} Q&A pairs\")\n",
    "        print(f\"Categories: {self.df['category'].unique().tolist()}\")\n",
    "\n",
    "        # Create comprehensive knowledge base\n",
    "        self.knowledge_base = {}\n",
    "        self.all_questions = []\n",
    "        self.all_answers = []\n",
    "        self.category_questions = {}\n",
    "\n",
    "        for _, row in self.df.iterrows():\n",
    "            question = row['input'].lower().strip()\n",
    "            answer = row['response']\n",
    "            category = row['category']\n",
    "\n",
    "            # Store in knowledge base\n",
    "            if category not in self.knowledge_base:\n",
    "                self.knowledge_base[category] = {}\n",
    "            self.knowledge_base[category][question] = answer\n",
    "\n",
    "            # Store for quick access\n",
    "            self.all_questions.append(question)\n",
    "            self.all_answers.append(answer)\n",
    "\n",
    "            # Store by category for quick buttons\n",
    "            if category not in self.category_questions:\n",
    "                self.category_questions[category] = []\n",
    "            self.category_questions[category].append((question, answer))\n",
    "\n",
    "        # Load sentence transformer for similarity matching\n",
    "        print(\"Loading similarity model...\")\n",
    "        self.model = SentenceTransformer('all-MiniLM-L6-v2')\n",
    "\n",
    "        # Precompute embeddings for ALL questions\n",
    "        print(\"Computing embeddings for all questions...\")\n",
    "        self.all_embeddings = self.model.encode(self.all_questions)\n",
    "\n",
    "        print(f\"Ready! Loaded {len(self.all_questions)} questions across {len(self.knowledge_base)} categories\")\n",
    "\n",
    "    def find_best_match(self, user_question, threshold=0.3):\n",
    "        \"\"\"Find the most similar question in the entire knowledge base\"\"\"\n",
    "        user_question_lower = user_question.lower().strip()\n",
    "\n",
    "        # Encode user question\n",
    "        user_embedding = self.model.encode([user_question_lower])\n",
    "\n",
    "        # Calculate similarities with ALL questions\n",
    "        similarities = cosine_similarity(user_embedding, self.all_embeddings)[0]\n",
    "\n",
    "        # Find best match\n",
    "        best_idx = np.argmax(similarities)\n",
    "        best_score = similarities[best_idx]\n",
    "        best_question = self.all_questions[best_idx]\n",
    "        best_answer = self.all_answers[best_idx]\n",
    "\n",
    "        # Find which category this belongs to\n",
    "        best_category = None\n",
    "        for category, questions in self.knowledge_base.items():\n",
    "            if best_question in questions:\n",
    "                best_category = category\n",
    "                break\n",
    "\n",
    "        return best_question, best_answer, best_category, best_score\n",
    "\n",
    "    def get_response(self, user_question):\n",
    "        \"\"\"Get response from the complete knowledge base\"\"\"\n",
    "        user_question_lower = user_question.lower().strip()\n",
    "\n",
    "        # First, try exact match\n",
    "        for i, question in enumerate(self.all_questions):\n",
    "            if user_question_lower == question:\n",
    "                return self.all_answers[i], \"exact\", 1.0, self.all_questions[i]\n",
    "\n",
    "        # Then try similarity matching with lower threshold to catch more questions\n",
    "        best_question, best_answer, category, score = self.find_best_match(user_question, threshold=0.1)\n",
    "\n",
    "        if score > 0.1:  # Very low threshold to catch most questions\n",
    "            return best_answer, \"similar\", score, best_question\n",
    "\n",
    "        # No match found (should be rare with low threshold)\n",
    "        return None, \"no_match\", 0, None\n",
    "\n",
    "    def generate_safe_response(self, user_question):\n",
    "        \"\"\"Generate response using the complete knowledge base\"\"\"\n",
    "        # Get response from knowledge base\n",
    "        answer, match_type, confidence, matched_question = self.get_response(user_question)\n",
    "\n",
    "        if answer:\n",
    "            # Add context about match quality\n",
    "            if match_type == \"exact\":\n",
    "                response = answer\n",
    "                match_info = \"**Thank you for using our medical chatbot. We’ve prepared your response below, I hope it helps you feel better informed.**\"\n",
    "            else:\n",
    "                response = answer\n",
    "                match_info = f\"**Similar match** (confidence: {confidence:.2f})\"\n",
    "\n",
    "            # Add the matched question for transparency\n",
    "            if matched_question and match_type == \"similar\":\n",
    "                response = f\"{match_info}\\n\\n**Matched question:** \\\"{matched_question}\\\"\\n\\n**Answer:** {response}\"\n",
    "            else:\n",
    "                response = f\"{match_info}\\n\\n{response}\"\n",
    "\n",
    "            # Always add medical disclaimer\n",
    "            response += \"\\n\\n---\\n*This information comes from verified medical knowledge base. For personal medical advice, please consult a healthcare professional.*\"\n",
    "\n",
    "            return response\n",
    "        else:\n",
    "            # No match found - provide helpful guidance\n",
    "            return \"I couldn't find a close match in my medical knowledge base.\\n\\n**Suggestions:**\\n• Try rephrasing your question\\n• Use more specific medical terms\\n• Check the quick question buttons below\\n• Consult a healthcare provider for personal medical advice\\n\\nMy knowledge covers: Pneumonia, Malaria, Typhoid, General Health, Women & Child Health, Nutrition, and Mental Health.\"\n",
    "\n",
    "    def get_quick_answers_by_category(self, num_per_category=5):\n",
    "        \"\"\"Get sample questions organized by category for quick buttons\"\"\"\n",
    "        samples = {}\n",
    "        for category in self.category_questions.keys():\n",
    "            questions = self.category_questions[category][:num_per_category]\n",
    "            samples[category] = [(q[0], q[1]) for q in questions]\n",
    "        return samples\n",
    "\n",
    "# Initialize the complete chatbot\n",
    "complete_bot = CompleteMedicalChatbot()\n",
    "\n",
    "# Clean Black & White CSS\n",
    "custom_css = \"\"\"\n",
    ".gradio-container {\n",
    "    font-family: 'Segoe UI', Tahoma, Geneva, Verdana, sans-serif;\n",
    "    max-width: 1400px !important;\n",
    "    margin: 0 auto;\n",
    "    background: #ffffff;\n",
    "}\n",
    "\n",
    ".main-container {\n",
    "    background: white;\n",
    "    border-radius: 8px;\n",
    "    box-shadow: 0 2px 12px rgba(0, 0, 0, 0.1);\n",
    "    overflow: hidden;\n",
    "    margin: 20px auto;\n",
    "    min-height: 800px;\n",
    "    position: relative;\n",
    "    border: 1px solid #e0e0e0;\n",
    "}\n",
    "\n",
    ".chat-container {\n",
    "    background: white;\n",
    "    border-radius: 8px;\n",
    "    min-height: 700px;\n",
    "    transition: all 0.3s ease;\n",
    "    margin-left: 0;\n",
    "}\n",
    "\n",
    ".chatbot {\n",
    "    background: white;\n",
    "    border-radius: 8px;\n",
    "    min-height: 600px;\n",
    "    border: 1px solid #f0f0f0;\n",
    "    transition: all 0.3s ease;\n",
    "}\n",
    "\n",
    ".chatbot .message.user {\n",
    "    background: #f8f8f8 !important;\n",
    "    border: 1px solid #e0e0e0;\n",
    "    border-radius: 12px 12px 4px 12px;\n",
    "    margin: 8px 0;\n",
    "    padding: 12px 16px;\n",
    "    max-width: 85%;\n",
    "    margin-left: auto;\n",
    "    color: #333333;\n",
    "}\n",
    "\n",
    ".chatbot .message.bot {\n",
    "    background: #fafafa !important;\n",
    "    border: 1px solid #e8e8e8;\n",
    "    border-radius: 12px 12px 12px 4px;\n",
    "    margin: 8px 0;\n",
    "    padding: 12px 16px;\n",
    "    line-height: 1.6;\n",
    "    max-width: 85%;\n",
    "    color: #333333;\n",
    "}\n",
    "\n",
    ".medical-header {\n",
    "    text-align: center;\n",
    "    padding: 20px;\n",
    "    background: #2c2c2c;\n",
    "    color: white;\n",
    "    margin-bottom: 0;\n",
    "    position: relative;\n",
    "    overflow: hidden;\n",
    "}\n",
    "\n",
    "/* Left Sidebar Styles */\n",
    ".left-sidebar {\n",
    "    background: #fafafa;\n",
    "    border-right: 1px solid #e0e0e0;\n",
    "    padding: 16px;\n",
    "    height: 100%;\n",
    "    overflow-y: auto;\n",
    "    border-radius: 8px 0 0 8px;\n",
    "    transition: all 0.3s ease;\n",
    "    width: 300px;\n",
    "    min-width: 300px;\n",
    "    max-width: 300px;\n",
    "}\n",
    "\n",
    ".sidebar-header {\n",
    "    background: #404040;\n",
    "    color: white;\n",
    "    padding: 12px;\n",
    "    border-radius: 6px;\n",
    "    margin-bottom: 16px;\n",
    "    text-align: center;\n",
    "}\n",
    "\n",
    ".sidebar-section {\n",
    "    background: white;\n",
    "    border-radius: 6px;\n",
    "    padding: 0;\n",
    "    margin: 12px 0;\n",
    "    border: 1px solid #e0e0e0;\n",
    "    overflow: hidden;\n",
    "}\n",
    "\n",
    ".sidebar-title {\n",
    "    background: #f0f0f0;\n",
    "    color: #333333;\n",
    "    padding: 10px 12px;\n",
    "    font-weight: 600;\n",
    "    font-size: 0.9em;\n",
    "    display: flex;\n",
    "    align-items: center;\n",
    "    gap: 6px;\n",
    "    border-bottom: 1px solid #e0e0e0;\n",
    "}\n",
    "\n",
    ".sidebar-content {\n",
    "    padding: 12px;\n",
    "    max-height: 250px;\n",
    "    overflow-y: auto;\n",
    "    transition: all 0.3s ease;\n",
    "}\n",
    "\n",
    ".medical-button {\n",
    "    background: #ffffff !important;\n",
    "    border: 1px solid #d0d0d0 !important;\n",
    "    color: #333333 !important;\n",
    "    border-radius: 6px !important;\n",
    "    padding: 8px 10px !important;\n",
    "    margin: 4px 0 !important;\n",
    "    font-weight: 500 !important;\n",
    "    font-size: 0.85em !important;\n",
    "    transition: all 0.2s ease !important;\n",
    "    text-align: left !important;\n",
    "    width: 100% !important;\n",
    "    justify-content: flex-start !important;\n",
    "}\n",
    "\n",
    ".medical-button:hover {\n",
    "    background: #f0f0f0 !important;\n",
    "    border-color: #a0a0a0 !important;\n",
    "    transform: translateX(1px) !important;\n",
    "}\n",
    "\n",
    ".primary-button {\n",
    "    background: #404040 !important;\n",
    "    border: none !important;\n",
    "    color: white !important;\n",
    "    border-radius: 8px !important;\n",
    "    padding: 10px 20px !important;\n",
    "    font-weight: 600 !important;\n",
    "    transition: all 0.2s ease !important;\n",
    "}\n",
    "\n",
    ".primary-button:hover {\n",
    "    background: #505050 !important;\n",
    "    transform: translateY(-1px) !important;\n",
    "}\n",
    "\n",
    ".input-box {\n",
    "    border: 1px solid #d0d0d0 !important;\n",
    "    border-radius: 8px !important;\n",
    "    padding: 12px 16px !important;\n",
    "    font-size: 14px !important;\n",
    "    background: white !important;\n",
    "}\n",
    "\n",
    ".input-box:focus {\n",
    "    border-color: #808080 !important;\n",
    "    outline: none !important;\n",
    "}\n",
    "\n",
    "/* External Toggle Button - Always Visible */\n",
    ".external-toggle-btn {\n",
    "    position: absolute !important;\n",
    "    top: 16px;\n",
    "    left: 16px;\n",
    "    z-index: 1000;\n",
    "    background: #606060 !important;\n",
    "    border: none !important;\n",
    "    color: white !important;\n",
    "    border-radius: 6px !important;\n",
    "    padding: 8px 12px !important;\n",
    "    font-weight: 600 !important;\n",
    "    transition: all 0.2s ease !important;\n",
    "    width: 36px !important;\n",
    "    height: 36px !important;\n",
    "    min-width: 36px !important;\n",
    "}\n",
    "\n",
    ".external-toggle-btn:hover {\n",
    "    background: #707070 !important;\n",
    "    transform: translateY(-1px) !important;\n",
    "}\n",
    "\n",
    ".warning-box {\n",
    "    background: #f8f8f8;\n",
    "    border: 1px solid #d0d0d0;\n",
    "    border-radius: 6px;\n",
    "    padding: 12px;\n",
    "    margin: 12px 0;\n",
    "    color: #666666;\n",
    "    font-size: 12px;\n",
    "}\n",
    "\n",
    ".stats-bar {\n",
    "    background: #f0f0f0;\n",
    "    border: 1px solid #d0d0d0;\n",
    "    border-radius: 6px;\n",
    "    padding: 10px 16px;\n",
    "    margin: 12px 0;\n",
    "    text-align: center;\n",
    "    font-weight: 600;\n",
    "    color: #333333;\n",
    "    font-size: 0.85em;\n",
    "}\n",
    "\n",
    ".hidden {\n",
    "    display: none !important;\n",
    "}\n",
    "\n",
    ".sidebar-hidden {\n",
    "    width: 0px !important;\n",
    "    min-width: 0px !important;\n",
    "    max-width: 0px !important;\n",
    "    padding: 0px !important;\n",
    "    overflow: hidden !important;\n",
    "    border: none !important;\n",
    "}\n",
    "\n",
    ".chat-expanded {\n",
    "    margin-left: 0px !important;\n",
    "    width: 100% !important;\n",
    "}\n",
    "\n",
    "/* Scrollbar styling */\n",
    ".sidebar-content::-webkit-scrollbar {\n",
    "    width: 4px;\n",
    "}\n",
    "\n",
    ".sidebar-content::-webkit-scrollbar-track {\n",
    "    background: #f1f1f1;\n",
    "    border-radius: 2px;\n",
    "}\n",
    "\n",
    ".sidebar-content::-webkit-scrollbar-thumb {\n",
    "    background: #c0c0c0;\n",
    "    border-radius: 2px;\n",
    "}\n",
    "\n",
    ".sidebar-content::-webkit-scrollbar-thumb:hover {\n",
    "    background: #a0a0a0;\n",
    "}\n",
    "\n",
    ".content-row {\n",
    "    display: flex;\n",
    "    width: 100%;\n",
    "    transition: all 0.3s ease;\n",
    "}\n",
    "\"\"\"\n",
    "\n",
    "def chat_with_complete_bot(message, history):\n",
    "    \"\"\"Chat function using complete knowledge base\"\"\"\n",
    "    # Add typing indicator\n",
    "    yield history + [[message, \"Searching medical database...\"]]\n",
    "    time.sleep(0.3)\n",
    "\n",
    "    # Get response from complete knowledge base\n",
    "    response = complete_bot.generate_safe_response(message)\n",
    "\n",
    "    # Return final response\n",
    "    yield history + [[message, response]]\n",
    "\n",
    "def toggle_sidebar(sidebar_visible):\n",
    "    \"\"\"Toggle sidebar visibility and update button icon\"\"\"\n",
    "    new_visibility = not sidebar_visible\n",
    "    if new_visibility:\n",
    "        return new_visibility, gr.update(visible=True), \"←\"\n",
    "    else:\n",
    "        return new_visibility, gr.update(visible=False), \"→\"\n",
    "\n",
    "# Get organized quick questions\n",
    "quick_samples = complete_bot.get_quick_answers_by_category(5)\n",
    "\n",
    "# Create interface with fixed left sidebar\n",
    "with gr.Blocks(css=custom_css, theme=gr.themes.Soft()) as demo:\n",
    "\n",
    "    # State to track sidebar visibility\n",
    "    sidebar_visible = gr.State(value=True)\n",
    "\n",
    "    with gr.Column(elem_classes=\"main-container\"):\n",
    "\n",
    "        # Clean Healthcare Header\n",
    "        gr.HTML(f\"\"\"\n",
    "        <div class=\"medical-header\">\n",
    "            <h1 style=\"margin: 0; font-size: 2.1em; font-weight: 600;\">MediBot Pro</h1>\n",
    "            <p style=\"margin: 6px 0 0 0; font-size: 1em; opacity: 0.9; font-weight: 300;\">Medical Knowledge Base System</p>\n",
    "            <div style=\"background: rgba(255,255,255,0.1); padding: 10px; border-radius: 6px; margin: 12px 0 0 0;\">\n",
    "                <div style=\"display: flex; justify-content: center; gap: 25px; flex-wrap: wrap; font-size: 0.9em;\">\n",
    "                    <div><strong>{len(complete_bot.all_questions)}</strong> Medical Q&A</div>\n",
    "                    <div><strong>{len(complete_bot.knowledge_base)}</strong> Specialties</div>\n",
    "                    <div><strong>Verified</strong> Knowledge</div>\n",
    "                    <div><strong>Zero</strong> Hallucinations</div>\n",
    "                </div>\n",
    "            </div>\n",
    "        </div>\n",
    "        \"\"\")\n",
    "\n",
    "        # Stats Bar\n",
    "        gr.HTML(f\"\"\"\n",
    "        <div class=\"stats-bar\">\n",
    "            <strong>Medical Specialties:</strong> {', '.join(complete_bot.knowledge_base.keys())}\n",
    "        </div>\n",
    "        \"\"\")\n",
    "\n",
    "        # External Toggle Button - Always Visible\n",
    "        toggle_btn = gr.Button(\"←\", elem_classes=\"external-toggle-btn\")\n",
    "\n",
    "        # Main Content Area with Left Sidebar\n",
    "        with gr.Row(elem_classes=\"content-row\"):\n",
    "            # Left Column - Sidebar (Quick Questions)\n",
    "            sidebar = gr.Column(scale=1, visible=True, elem_classes=\"left-sidebar\")\n",
    "\n",
    "            # Right Column - Chat Interface (Main Content)\n",
    "            with gr.Column(scale=4, elem_classes=\"chat-container\"):\n",
    "                # Chat Interface\n",
    "                chatbot = gr.Chatbot(\n",
    "                    value=[\n",
    "\n",
    "                    ],\n",
    "                    label=\"Medical Consultation Interface\",\n",
    "                    height=500,\n",
    "                    show_copy_button=True,\n",
    "                    container=False\n",
    "                )\n",
    "\n",
    "                # Input Area\n",
    "                with gr.Row():\n",
    "                    msg = gr.Textbox(\n",
    "                        placeholder=\"Describe your medical question or concern...\",\n",
    "                        lines=2,\n",
    "                        container=False,\n",
    "                        scale=4,\n",
    "                        max_lines=3,\n",
    "                        elem_classes=\"input-box\"\n",
    "                    )\n",
    "                    submit_btn = gr.Button(\"Send\", variant=\"primary\", elem_classes=\"primary-button\", scale=1)\n",
    "\n",
    "        # Enhanced Medical Disclaimer (Main Area)\n",
    "        gr.HTML(\"\"\"\n",
    "        <div class=\"warning-box\">\n",
    "            <div style=\"text-align: center; font-weight: 600; margin-bottom: 8px;\">\n",
    "                IMPORTANT MEDICAL DISCLAIMER\n",
    "            </div>\n",
    "            This system provides general medical information from a verified knowledge base.\n",
    "            It is not a substitute for professional medical advice, diagnosis, or treatment.\n",
    "            Always consult qualified healthcare providers for personal medical concerns.\n",
    "            All responses are sourced directly from the medical dataset with zero AI hallucinations.\n",
    "        </div>\n",
    "        \"\"\")\n",
    "\n",
    "    # Build sidebar content separately\n",
    "    with sidebar:\n",
    "        # Sidebar Header\n",
    "        gr.HTML(\"\"\"\n",
    "        <div class=\"sidebar-header\">\n",
    "            <h3 style=\"margin: 0; font-size: 1.1em;\">Quick Questions</h3>\n",
    "            <p style=\"margin: 4px 0 0 0; font-size: 0.8em; opacity: 0.9;\">Click to ask instantly</p>\n",
    "        </div>\n",
    "        \"\"\")\n",
    "\n",
    "        # Sidebar Content - Organized by Category\n",
    "        for category, questions in quick_samples.items():\n",
    "            with gr.Column(elem_classes=\"sidebar-section\"):\n",
    "                # Category Header\n",
    "                gr.HTML(f\"\"\"\n",
    "                <div class=\"sidebar-title\">\n",
    "                    {category}\n",
    "                    <span style=\"margin-left: auto; font-size: 0.75em; background: rgba(0,0,0,0.1); padding: 2px 6px; border-radius: 8px;\">\n",
    "                        {len(questions)}\n",
    "                    </span>\n",
    "                </div>\n",
    "                \"\"\")\n",
    "\n",
    "                # Questions for this category\n",
    "                with gr.Column(elem_classes=\"sidebar-content\"):\n",
    "                    for question, answer in questions:\n",
    "                        btn_text = f\"{question[:50]}{'...' if len(question) > 50 else ''}\"\n",
    "                        btn = gr.Button(\n",
    "                            btn_text,\n",
    "                            size=\"sm\",\n",
    "                            elem_classes=\"medical-button\"\n",
    "                        )\n",
    "                        btn.click(lambda q=question: q, outputs=msg)\n",
    "\n",
    "        # Medical Disclaimer in Sidebar\n",
    "        gr.HTML(\"\"\"\n",
    "        <div class=\"warning-box\">\n",
    "            <strong>Medical Disclaimer</strong><br>\n",
    "            This system provides general medical information from a verified knowledge base.\n",
    "            It is not a substitute for professional medical advice.\n",
    "        </div>\n",
    "        \"\"\")\n",
    "\n",
    "    # Event handlers\n",
    "    submit_btn.click(\n",
    "        chat_with_complete_bot,\n",
    "        inputs=[msg, chatbot],\n",
    "        outputs=chatbot\n",
    "    ).then(lambda: \"\", outputs=msg)\n",
    "\n",
    "    msg.submit(\n",
    "        chat_with_complete_bot,\n",
    "        inputs=[msg, chatbot],\n",
    "        outputs=chatbot\n",
    "    ).then(lambda: \"\", outputs=msg)\n",
    "\n",
    "    # Sidebar toggle functionality\n",
    "    toggle_btn.click(\n",
    "        toggle_sidebar,\n",
    "        inputs=[sidebar_visible],\n",
    "        outputs=[sidebar_visible, sidebar, toggle_btn]\n",
    "    )\n",
    "\n",
    "print(\"Launching Professional Medical Knowledge Chatbot ...\")\n",
    "\n",
    "demo.launch(share=True, debug=True)"
   ]
  },
  {
   "cell_type": "code",
   "execution_count": 18,
   "metadata": {
    "colab": {
     "base_uri": "https://localhost:8080/"
    },
    "executionInfo": {
     "elapsed": 7,
     "status": "ok",
     "timestamp": 1761652456280,
     "user": {
      "displayName": "Kanisa Thiak",
      "userId": "11456701695554532163"
     },
     "user_tz": -120
    },
    "id": "IIyfDAq0rbxr",
    "outputId": "0bca5328-746a-4194-a0d4-e982b808157d"
   },
   "outputs": [
    {
     "name": "stdout",
     "output_type": "stream",
     "text": [
      "Basic deployment package created!\n",
      "Files created: requirements.txt, app.py\n"
     ]
    }
   ],
   "source": [
    "# Cell 22: Simple Deployment Package\n",
    "def create_deployment_package():\n",
    "    \"\"\"Create basic deployment files\"\"\"\n",
    "\n",
    "    # Create requirements.txt\n",
    "    requirements_content = \"transformers>=4.20.0\\ntorch>=1.9.0\\ngradio>=3.0.0\\npandas\\nscikit-learn\\nsentence-transformers\\nnumpy\"\n",
    "\n",
    "    with open(\"requirements.txt\", \"w\") as f:\n",
    "        f.write(requirements_content)\n",
    "\n",
    "    # Create a simple app.py\n",
    "    app_content = '''import gradio as gr\n",
    "from transformers import AutoTokenizer, AutoModelForCausalLM\n",
    "import torch\n",
    "\n",
    "# Load the fine-tuned model\n",
    "model_path = \"./medibot_model\"\n",
    "tokenizer = AutoTokenizer.from_pretrained(model_path)\n",
    "model = AutoModelForCausalLM.from_pretrained(model_path)\n",
    "device = torch.device(\"cuda\" if torch.cuda.is_available() else \"cpu\")\n",
    "model.to(device)\n",
    "model.eval()\n",
    "\n",
    "def respond(message, history):\n",
    "    input_text = f\"User: {message}\\\\nAssistant:\"\n",
    "    inputs = tokenizer.encode(input_text, return_tensors='pt').to(device)\n",
    "\n",
    "    with torch.no_grad():\n",
    "        outputs = model.generate(\n",
    "            inputs,\n",
    "            max_length=512,\n",
    "            num_return_sequences=1,\n",
    "            temperature=0.7,\n",
    "            do_sample=True,\n",
    "            pad_token_id=tokenizer.eos_token_id\n",
    "        )\n",
    "\n",
    "    response = tokenizer.decode(outputs[0], skip_special_tokens=True)\n",
    "    if \"Assistant:\" in response:\n",
    "        return response.split(\"Assistant:\")[-1].strip()\n",
    "    return response\n",
    "\n",
    "# Create chatbot interface\n",
    "demo = gr.ChatInterface(\n",
    "    respond,\n",
    "    title=\"MediBot Africa - Healthcare Assistant\",\n",
    "    description=\"Ask medical questions about African healthcare contexts\",\n",
    "    examples=[\n",
    "        \"What are malaria symptoms?\",\n",
    "        \"How to prevent typhoid?\",\n",
    "        \"First aid for burns?\"\n",
    "    ]\n",
    ")\n",
    "\n",
    "if __name__ == \"__main__\":\n",
    "    demo.launch()\n",
    "'''\n",
    "\n",
    "    with open(\"app.py\", \"w\") as f:\n",
    "        f.write(app_content)\n",
    "\n",
    "    print(\"Basic deployment package created!\")\n",
    "    print(\"Files created: requirements.txt, app.py\")\n",
    "\n",
    "create_deployment_package()"
   ]
  },
  {
   "cell_type": "code",
   "execution_count": 19,
   "metadata": {
    "colab": {
     "base_uri": "https://localhost:8080/"
    },
    "executionInfo": {
     "elapsed": 4235,
     "status": "ok",
     "timestamp": 1761652460513,
     "user": {
      "displayName": "Kanisa Thiak",
      "userId": "11456701695554532163"
     },
     "user_tz": -120
    },
    "id": "mCQnJZJpwtnh",
    "outputId": "07a01709-68d3-447e-e437-5c5eaea82a40"
   },
   "outputs": [
    {
     "name": "stdout",
     "output_type": "stream",
     "text": [
      "Testing MediBot with sample questions:\n",
      "\n",
      "Q: What are malaria symptoms?\n",
      "A: Malaria symptoms include prolonged fever, stomach pain, headache, and weakness. Please consult a healthcare provider for diagnosis.\n",
      "--------------------------------------------------\n",
      "Q: How to prevent typhoid?\n",
      "A: Wash your hands, avoid raw foods, drink safe water, and get vaccinated where available. Seek medical attention if you develop fever or chills. Seek medical attention if you develop headache. Seek advice from a healthcare professional.\n",
      "--------------------------------------------------\n",
      "Q: What should I do for high fever?\n",
      "A: High fever requires prompt medical attention. Drink fluids and rest. Seek medical attention if needed. Seek medical attention if needed. Seek medical attention if needed. Seek medical attention if needed. Seek medical attention if needed. Seek medical attention if needed. Seek medical attention if needed. Seek medical attention if needed. Seek medical attention if needed. Seek medical attention if needed. Seek medical attention if needed. Seek medical attention if needed. Seek medical attention if needed. Seek medical attention if needed. Seek medical attention if needed. Seek medical attention if needed. Seek medical attention if needed. Seek\n",
      "--------------------------------------------------\n"
     ]
    }
   ],
   "source": [
    "# Cell 25: Test Basic Chatbot\n",
    "def test_basic_chatbot():\n",
    "    \"\"\"Test the basic chatbot functionality\"\"\"\n",
    "\n",
    "    try:\n",
    "        # Load model and tokenizer\n",
    "        model_path = \"./medibot_model\"\n",
    "        tokenizer = AutoTokenizer.from_pretrained(model_path)\n",
    "        model = AutoModelForCausalLM.from_pretrained(model_path)\n",
    "\n",
    "        device = torch.device(\"cuda\" if torch.cuda.is_available() else \"cpu\")\n",
    "        model.to(device)\n",
    "        model.eval()\n",
    "\n",
    "        test_questions = [\n",
    "            \"What are malaria symptoms?\",\n",
    "            \"How to prevent typhoid?\",\n",
    "            \"What should I do for high fever?\"\n",
    "        ]\n",
    "\n",
    "        print(\"Testing MediBot with sample questions:\\n\")\n",
    "\n",
    "        for question in test_questions:\n",
    "            input_text = f\"User: {question}\\nAssistant:\"\n",
    "            inputs = tokenizer.encode(input_text, return_tensors='pt').to(device)\n",
    "\n",
    "            with torch.no_grad():\n",
    "                outputs = model.generate(\n",
    "                    inputs,\n",
    "                    max_length=256,\n",
    "                    num_return_sequences=1,\n",
    "                    temperature=0.7,\n",
    "                    do_sample=True,\n",
    "                    pad_token_id=tokenizer.eos_token_id\n",
    "                )\n",
    "\n",
    "            response = tokenizer.decode(outputs[0], skip_special_tokens=True)\n",
    "            if \"Assistant:\" in response:\n",
    "                assistant_response = response.split(\"Assistant:\")[-1].strip()\n",
    "            else:\n",
    "                assistant_response = response\n",
    "\n",
    "            print(f\"Q: {question}\")\n",
    "            print(f\"A: {assistant_response}\")\n",
    "            print(\"-\" * 50)\n",
    "\n",
    "    except Exception as e:\n",
    "        print(f\"Error testing chatbot: {e}\")\n",
    "        print(\"Make sure the model files exist in ./medibot_model/\")\n",
    "\n",
    "# Test the chatbot\n",
    "test_basic_chatbot()"
   ]
  },
  {
   "cell_type": "code",
   "execution_count": 20,
   "metadata": {
    "colab": {
     "base_uri": "https://localhost:8080/"
    },
    "executionInfo": {
     "elapsed": 1014,
     "status": "ok",
     "timestamp": 1761652461539,
     "user": {
      "displayName": "Kanisa Thiak",
      "userId": "11456701695554532163"
     },
     "user_tz": -120
    },
    "id": "nLk3YhJOwXR-",
    "outputId": "3bb80844-1866-4326-adad-4bb2c8518cc9"
   },
   "outputs": [
    {
     "name": "stdout",
     "output_type": "stream",
     "text": [
      "Cloning into 'medibot-africa'...\n",
      "remote: Enumerating objects: 29, done.\u001b[K\n",
      "remote: Counting objects: 100% (16/16), done.\u001b[K\n",
      "remote: Compressing objects: 100% (15/15), done.\u001b[K\n",
      "remote: Total 29 (delta 1), reused 0 (delta 0), pack-reused 13 (from 1)\u001b[K\n",
      "Unpacking objects: 100% (29/29), 1.25 MiB | 3.91 MiB/s, done.\n"
     ]
    }
   ],
   "source": [
    "!git clone https://huggingface.co/spaces/Kanisa12/medibot-africa\n"
   ]
  },
  {
   "cell_type": "code",
   "execution_count": 21,
   "metadata": {
    "colab": {
     "base_uri": "https://localhost:8080/"
    },
    "executionInfo": {
     "elapsed": 18,
     "status": "ok",
     "timestamp": 1761652461558,
     "user": {
      "displayName": "Kanisa Thiak",
      "userId": "11456701695554532163"
     },
     "user_tz": -120
    },
    "id": "ttcYyyNgw2b9",
    "outputId": "2a24a306-716c-438d-85a6-5367766a164a"
   },
   "outputs": [
    {
     "name": "stdout",
     "output_type": "stream",
     "text": [
      "/content/medibot-africa\n"
     ]
    }
   ],
   "source": [
    "%cd medibot-africa"
   ]
  },
  {
   "cell_type": "code",
   "execution_count": 22,
   "metadata": {
    "colab": {
     "base_uri": "https://localhost:8080/"
    },
    "executionInfo": {
     "elapsed": 113,
     "status": "ok",
     "timestamp": 1761652461671,
     "user": {
      "displayName": "Kanisa Thiak",
      "userId": "11456701695554532163"
     },
     "user_tz": -120
    },
    "id": "bDT_-uL5w_b7",
    "outputId": "b656bfe3-bf7e-4e26-de49-b4cdb50c7d77"
   },
   "outputs": [
    {
     "name": "stdout",
     "output_type": "stream",
     "text": [
      "app.py                  merges.txt               tokenizer.json\n",
      "chat.ipynb              model_config.json        train_data.csv\n",
      "chat_template.jinja     README.md                training_metrics.json\n",
      "config.json             requirements.txt         transfer.py\n",
      "generation_config.json  special_tokens_map.json  val_data.csv\n",
      "medibot_dataset.json    tokenizer_config.json    vocab.json\n"
     ]
    }
   ],
   "source": [
    "%ls"
   ]
  },
  {
   "cell_type": "code",
   "execution_count": 23,
   "metadata": {
    "executionInfo": {
     "elapsed": 103968,
     "status": "ok",
     "timestamp": 1761652565639,
     "user": {
      "displayName": "Kanisa Thiak",
      "userId": "11456701695554532163"
     },
     "user_tz": -120
    },
    "id": "Z2ibtSH7xEsZ"
   },
   "outputs": [],
   "source": [
    "!cp -r /content/medibot_model /content/medibot-africa"
   ]
  },
  {
   "cell_type": "code",
   "execution_count": 24,
   "metadata": {
    "executionInfo": {
     "elapsed": 145,
     "status": "ok",
     "timestamp": 1761652565792,
     "user": {
      "displayName": "Kanisa Thiak",
      "userId": "11456701695554532163"
     },
     "user_tz": -120
    },
    "id": "gcGqBhKIkZ7f"
   },
   "outputs": [],
   "source": [
    "!git config --global user.email \"k.thiak@alustudent\"\n",
    "!git config --global user.name \"Kanisa12\""
   ]
  },
  {
   "cell_type": "code",
   "execution_count": 25,
   "metadata": {
    "colab": {
     "base_uri": "https://localhost:8080/"
    },
    "executionInfo": {
     "elapsed": 129825,
     "status": "ok",
     "timestamp": 1761652695622,
     "user": {
      "displayName": "Kanisa Thiak",
      "userId": "11456701695554532163"
     },
     "user_tz": -120
    },
    "id": "rcmQnLokyCaM",
    "outputId": "1046592c-2e96-4046-bec0-9149791d6251"
   },
   "outputs": [
    {
     "name": "stdout",
     "output_type": "stream",
     "text": [
      "Updated git hooks.\n",
      "Git LFS initialized.\n",
      "\"*.bin\" already supported\n",
      "[main 1a4797b] Track large files with Git LFS\n",
      " 46 files changed, 905236 insertions(+)\n",
      " create mode 100644 medibot_model/README.md\n",
      " create mode 100644 medibot_model/category_distribution.png\n",
      " create mode 100644 medibot_model/chat_template.jinja\n",
      " create mode 100644 medibot_model/checkpoint-1050/chat_template.jinja\n",
      " create mode 100644 medibot_model/checkpoint-1050/config.json\n",
      " create mode 100644 medibot_model/checkpoint-1050/generation_config.json\n",
      " create mode 100644 medibot_model/checkpoint-1050/merges.txt\n",
      " create mode 100644 medibot_model/checkpoint-1050/model.safetensors\n",
      " create mode 100644 medibot_model/checkpoint-1050/optimizer.pt\n",
      " create mode 100644 medibot_model/checkpoint-1050/rng_state.pth\n",
      " create mode 100644 medibot_model/checkpoint-1050/scaler.pt\n",
      " create mode 100644 medibot_model/checkpoint-1050/scheduler.pt\n",
      " create mode 100644 medibot_model/checkpoint-1050/special_tokens_map.json\n",
      " create mode 100644 medibot_model/checkpoint-1050/tokenizer.json\n",
      " create mode 100644 medibot_model/checkpoint-1050/tokenizer_config.json\n",
      " create mode 100644 medibot_model/checkpoint-1050/trainer_state.json\n",
      " create mode 100644 medibot_model/checkpoint-1050/training_args.bin\n",
      " create mode 100644 medibot_model/checkpoint-1050/vocab.json\n",
      " create mode 100644 medibot_model/checkpoint-700/chat_template.jinja\n",
      " create mode 100644 medibot_model/checkpoint-700/config.json\n",
      " create mode 100644 medibot_model/checkpoint-700/generation_config.json\n",
      " create mode 100644 medibot_model/checkpoint-700/merges.txt\n",
      " create mode 100644 medibot_model/checkpoint-700/model.safetensors\n",
      " create mode 100644 medibot_model/checkpoint-700/optimizer.pt\n",
      " create mode 100644 medibot_model/checkpoint-700/rng_state.pth\n",
      " create mode 100644 medibot_model/checkpoint-700/scaler.pt\n",
      " create mode 100644 medibot_model/checkpoint-700/scheduler.pt\n",
      " create mode 100644 medibot_model/checkpoint-700/special_tokens_map.json\n",
      " create mode 100644 medibot_model/checkpoint-700/tokenizer.json\n",
      " create mode 100644 medibot_model/checkpoint-700/tokenizer_config.json\n",
      " create mode 100644 medibot_model/checkpoint-700/trainer_state.json\n",
      " create mode 100644 medibot_model/checkpoint-700/training_args.bin\n",
      " create mode 100644 medibot_model/checkpoint-700/vocab.json\n",
      " create mode 100644 medibot_model/config.json\n",
      " create mode 100644 medibot_model/generation_config.json\n",
      " create mode 100644 medibot_model/merges.txt\n",
      " create mode 100644 medibot_model/model.safetensors\n",
      " create mode 100644 medibot_model/model_config.json\n",
      " create mode 100644 medibot_model/runs/Oct28_11-36-49_abfa7ebb8786/events.out.tfevents.1761651424.abfa7ebb8786.738.0\n",
      " create mode 100644 medibot_model/special_tokens_map.json\n",
      " create mode 100644 medibot_model/tokenizer.json\n",
      " create mode 100644 medibot_model/tokenizer_config.json\n",
      " create mode 100644 medibot_model/train_data.csv\n",
      " create mode 100644 medibot_model/training_metrics.json\n",
      " create mode 100644 medibot_model/val_data.csv\n",
      " create mode 100644 medibot_model/vocab.json\n",
      "fatal: could not read Username for 'https://huggingface.co': No such device or address\n"
     ]
    }
   ],
   "source": [
    "!git lfs install\n",
    "!git lfs track \"*.bin\"\n",
    "!git add .gitattributes\n",
    "!git add .\n",
    "!git commit -m \"Track large files with Git LFS\"\n",
    "!git push https://huggingface.co/spaces/Kanisa12/medibot-africa\n"
   ]
  },
  {
   "cell_type": "code",
   "execution_count": 27,
   "metadata": {
    "colab": {
     "base_uri": "https://localhost:8080/"
    },
    "executionInfo": {
     "elapsed": 29206,
     "status": "ok",
     "timestamp": 1761653553972,
     "user": {
      "displayName": "Kanisa Thiak",
      "userId": "11456701695554532163"
     },
     "user_tz": -120
    },
    "id": "fiYtfGWcuwwg",
    "outputId": "50bfcb86-7d14-4c15-ac41-0c6cb70256c4"
   },
   "outputs": [
    {
     "name": "stdout",
     "output_type": "stream",
     "text": [
      "Mounted at /content/drive\n",
      "/content/medibot-africa\n",
      " 0x00-python-hello_world.gdoc\n",
      " 16905242815814259448571232475279.jpg\n",
      "'About EduWork Connect.gdoc'\n",
      "'Advanced html & css.gdoc'\n",
      "'ALA Beneficiaries (1).xlsx'\n",
      "'ALA Beneficiaries.xlsx'\n",
      " ALU\n",
      "'ALU list for nominated students.gdoc'\n",
      "'ALU Scholars Handbook for Kanisa Rebecca Majok Thiak_AUDIT.pdf'\n",
      "'Application for Internship-Kanisa Rebecca Majok.docx'\n",
      "'Articulating Process Assign.gdraw'\n",
      "'Assessment (1).gform'\n",
      " Assessment.gform\n",
      " Attendance.gsheet\n",
      "'Book report.gslides'\n",
      "'Breakout room_10 Optimization..pptx'\n",
      "'Calling All Mastercard Foundation Scholars with Ventures!  (File responses)'\n",
      "'Calling All Mastercard Foundation Scholars with Ventures! .gform'\n",
      "'Calling All Mastercard Foundation Scholars with Ventures!  (Responses).gsheet'\n",
      "'Campaign Team.gdoc'\n",
      "'Campaign Team.pdf'\n",
      "' Challenge 06: Launch A Mission | [TITANS SWAD].gsheet'\n",
      " checkpoint-1050\n",
      "'CI_Argumentative Essay_Kanisa Rebecca Majok Thiak.gdoc'\n",
      " Claculations.gdoc\n",
      "' class and  instance attributes.gdoc'\n",
      "'Colab Notebooks'\n",
      "'Community Storybook Project “Unwritten Pages”.gdoc'\n",
      "'computer shortcut keys.gdoc'\n",
      " Contract.pdf\n",
      " contributions.gdoc\n",
      "'Copy of Application for Internship-Kanisa Rebecca Majok.docx'\n",
      "'Copy of [BSE] Mathematics For Machine Learning: Calculus Student Activity.gslides'\n",
      "'Copy of FirstName LastName BSE Student: Reflection questions Year 1 Trimester-2 (1).gsheet'\n",
      "'Copy of FirstName LastName BSE Student: Reflection questions Year 1 Trimester-2 (2).gsheet'\n",
      "'Copy of FirstName LastName BSE Student: Reflection questions Year 1 Trimester-2 (3).gsheet'\n",
      "'Copy of FirstName LastName BSE Student: Reflection questions Year 1 Trimester-2 (4).gsheet'\n",
      "'Copy of FirstName LastName BSE Student: Reflection questions Year 1 Trimester-2.gsheet'\n",
      "'Copy of Lean Canvas Template.gslides'\n",
      "'Copy of [MAKE A COPY] Logbook | Skills Immersion 1 | 2024 Sept Term (1).gsheet'\n",
      "'Copy of [MAKE A COPY] Logbook | Skills Immersion 1 | 2024 Sept Term (2).gsheet'\n",
      "'Copy of [MAKE A COPY] Logbook | Skills Immersion 1 | 2024 Sept Term (3).gsheet'\n",
      "'Copy of [MAKE A COPY] Logbook | Skills Immersion 1 | 2024 Sept Term.gsheet'\n",
      "'Copy of [MAKE A COPY] Y1T1 Kanisa'\\''s Mission Development [RT_Summative] - .docx.gdoc'\n",
      "'Copy of Mastercard Foundation Scholars Reps Nomination Rubric.gdoc'\n",
      "'copy of my summatives.gdoc'\n",
      "'Copy of Negpod prompt - GCGOs(MAKE A COPY) (1).gsheet'\n",
      "'Copy of Negpod prompt - GCGOs(MAKE A COPY).gsheet'\n",
      "'Copy of Persona Profile_Exemplar.gslides'\n",
      "\"Copy of Scholar's profile template.gslides\"\n",
      "'Copy of Summative Assignment.ipynb'\n",
      "'Coursera BCYH4NU72HHZ.pdf'\n",
      "'cover (1).gdoc'\n",
      " cover.gdoc\n",
      "'coverletter 4 RDJ.gdoc'\n",
      "'Cover letter and Cv.gdoc'\n",
      "'cover letter.gdoc'\n",
      "'COVER LETTER.gdoc'\n",
      "'CV (1).pdf'\n",
      " CV.gdoc\n",
      "'design Constraints.gdoc'\n",
      " doctype.gdoc\n",
      "'Domain-Specific Chatbot Report: Kanisa.gdoc'\n",
      " education.gdoc\n",
      "'Execution Plan for the Role of Refugees & Displaced Persons (RDPs) Lead.gdoc'\n",
      "'Execution Plan for the Role of Refugees & Displaced Persons (RDPs) Lead.pdf'\n",
      "'Figma tutorial.gdoc'\n",
      "'Final Project Proposal.gdoc'\n",
      "' Futures Thinking Micro-course - Topic 2 - Interview Template.gdoc'\n",
      "'Gender norms Designs .gdoc'\n",
      "'# GreenTech Solutions: Scope of Work Document.gdoc'\n",
      " Group9_Final_Project_Submission.gdoc\n",
      "'Group coding report.gdoc'\n",
      "'Group discussion9cohort5Growth mindset strategies   .gdoc'\n",
      "\"I am proud today of how I have made my way from a refugee camp in Uganda to becoming a second-year student pursuing a bachelor's degree in  Software Engineering at the African Leadership University.gdoc\"\n",
      "'I come from a humble background in South Sudan, where my single mother raised me despite numerous hardships.gdoc'\n",
      "'Id and type in python.gdoc'\n",
      " id.jpg\n",
      "'I look at female education as the key driver needed for the overall growth and development of the African continent.gdoc'\n",
      " IMG-20250730-WA0023.jpg\n",
      " IMG-20250730-WA0035.jpg\n",
      "'Insights and Thematic Notes on CI Campaign Posts.gdoc'\n",
      "'Insights on Gender Norms.gdoc'\n",
      "'Insights on keywords gathering.gdoc'\n",
      "'Internship Support Letter - New Model Students - signed (1).pdf'\n",
      "'Internship Support Letter - New Model Students - signed.pdf'\n",
      "'Interpose Balance sheet for june 2025 - Feuille 1.pdf'\n",
      "'Interpose Poultry Farming Business Plan.pdf'\n",
      "'Kanisa_[Assignment1]_[week1]_[09 2024].gdoc'\n",
      "'Kanisa_ Cohort5 _Personalized Action Plan.gdoc'\n",
      " Kanisa_CV.gdoc\n",
      " Kanisa_CV.pdf\n",
      " Kanisa-Formative.gdoc\n",
      "'Kanisa_Form validation.gdoc'\n",
      " Kanisa.mp4\n",
      "'kanisa passport20230209_12205228.pdf'\n",
      "'Kanisa Rebecca_[Assignment2]_[W3]_[09 20 2024]`.gdoc'\n",
      "'Kanisa Rebecca_[Assignment4]_[W3]_[12 10 2024]`.gdoc'\n",
      "'Kanisa Rebecca cover.gdoc'\n",
      "'Kanisa Rebecca_letter.gdoc'\n",
      "'Kanisa Rebecca Majok Thiak2023 May Foundation grades.pdf'\n",
      "'KANISA REBECCA MAJOK THIAK Resume.pdf'\n",
      "\"Kanisa Rebecca Majok Thiak's Statement of Progression:202409RW.gdoc\"\n",
      "\"Kanisa Rebecca Majok Thiak's Statement of Progression:202409RW.pdf\"\n",
      "\"Kanisa Rebecca Majok Thiak's Statement of Progression_202409RW.pdf\"\n",
      "'Kanisa_Rebecca_Y1T1_Learning process Summative.gdoc'\n",
      "'Kanisa _Rebecca_Y1T1 Mission Development [RT_Summative].gdoc'\n",
      " Kanisa_Report.gdoc\n",
      "\"Kanisa's Reflection on the Learning Journey in Enterprise Web Development Module.gdoc\"\n",
      "'Kanisa Thiak_ Logbook | Skills Immersion 1 | 2024 Sept Term.gsheet'\n",
      "'Kanisa Thiak Scholars Council Representative Nomination Packet .docx'\n",
      "'Kanisa Thiak Scholars Council Representative Nomination Packet .docx.pdf'\n",
      "'Kanisa Thiak_[Summative]_[11 25 2024].gdoc'\n",
      "'Kanisa Thiak - TOT Contract (1).docx'\n",
      "'Kanisa Thiak - TOT Contract.docx'\n",
      "' Leadership Manifesto_Kanisa Rebecca.gdoc'\n",
      "'Letter of Enrolment (RW)_SD-22557.pdf'\n",
      "'Letter of Recommendation for Ms. Kanisa Rebecca Majok Thiak.gdoc'\n",
      " lv_0_20241125191608.mp4\n",
      "'Manifesto for Refugees & Displaced Persons (RDPs) Lead.gdoc'\n",
      "'Manifesto for Refugees & Displaced Persons (RDPs) Lead.pdf'\n",
      "'Manifesto Reading & Debate.gdoc'\n",
      "'May intake 2023_E-lab individual Reflection _ Thiak Kanisa.gdoc'\n",
      "'MediBot Africa – Health Data Collection .gform'\n",
      "'MediBot Africa – Health Data Collection  (Responses).gsheet'\n",
      " medibot_dataset.json\n",
      " medical-chatbot\n",
      " medical_chatbot_demo.py\n",
      " medical-chatbot-final\n",
      " medical_chatbot_project\n",
      "'Members roles.gdoc'\n",
      "'motivation letter (1).pdf'\n",
      "'motivation letter.gdoc'\n",
      "'motivation letter.pdf'\n",
      "'My cover.gdoc'\n",
      "'MY CV (2).pdf'\n",
      "'MY CV.gdoc'\n",
      "'MY CV.pdf'\n",
      "'my first targets in my course.gdoc'\n",
      "'My future career goal is to become a leading software engineer and tech entrepreneur for social change, using technology in Africa.gdoc'\n",
      "'MY mission.gdoc'\n",
      "'my misson statement.gdoc'\n",
      "'my passwords.gdoc'\n",
      "'My Resume (1).pdf'\n",
      "'My Resume.gdoc'\n",
      "'My Resume.pdf'\n",
      "'My stroy .gdoc'\n",
      "'Navigation Practice_breakout room_5.gdoc'\n",
      "'Notes for Python.gdoc'\n",
      "'Official Request_GS Nyabiheke (1).gdoc'\n",
      "'Official Request_GS Nyabiheke (1).pdf'\n",
      "'optimization model .mp4'\n",
      "'passport .jpg'\n",
      " passport.jpg\n",
      " payment.jpg\n",
      " permit.jpg\n",
      "'Personal statement.gdoc'\n",
      "'Perusall Week 2 – Markov Chains and Hidden Markov Models.gdoc'\n",
      " pic-min.jpg\n",
      "'Project Management Web Application.gslides'\n",
      "'Project Name: GreenTech Solutions.gdoc'\n",
      "'📌 Project Overview.gdoc'\n",
      "'Project Proposal Document.gdoc'\n",
      "'Proposal for Inter-University Visibility Competitions: ALU x UR RDP Communities.gdoc'\n",
      "'Proposal: World Refugee Day Celebration - RDP Community, ALU.gdoc'\n",
      "'RDP_exective_year plan.gsheet'\n",
      "'reasons for appying.gdoc'\n",
      "'  Recognition Awards for Refugee Scholars-2025.gdoc'\n",
      "'Recommendation letter  .gdoc'\n",
      "'Recommendation letter  .pdf'\n",
      "'Reflection on Note-taking Tutorial.gdoc'\n",
      "'reflection on social skills and empathy.gdoc'\n",
      "'Refugee Innovation Fair “RDP Innovates 2025”.gdoc'\n",
      "'Refugee Scholar Awards – Certificate Content.gdoc'\n",
      "'Report (1).gdoc'\n",
      " Report.gdoc\n",
      "'Requisition letter.gdoc'\n",
      "'Running for SG.gdoc'\n",
      "'sales pitch.gslides'\n",
      "\"Scholar's profile.pdf\"\n",
      "'Screenshot (10).png'\n",
      " Screenshot_20230719-190120_Gmail.jpg\n",
      " Screenshot_20231123-064711_Gmail.jpg\n",
      "'Screenshot 2024-03-21 073737.png'\n",
      "'Screenshot_20240915_215329_Eden Care (1).jpg'\n",
      "'Screenshot_20240915_215329_Eden Care.jpg'\n",
      "'Screenshot 2024-11-14 225902.png'\n",
      " Screenshot_20241129_220452.jpg\n",
      "'Screenshot 2025-03-18 070441.png'\n",
      "'SQL (Structured Query Language) is used to communicate with relational databases.gdoc'\n",
      "'Student Permit Recommendation Letter - Enrolled (RW)_SD-22531.pdf'\n",
      "'Subject- Request for Assistance in Sending Internship Application Letter.gdoc'\n",
      "'SWIDA Ghana_letter.gdoc'\n",
      "'System Architecture .drawio.png'\n",
      "'Tales of Turning.gdoc'\n",
      "'Task allocation:.gdoc'\n",
      "'Task Assignment for the Flutter App Development.gdoc'\n",
      " Tasks_32.gdoc\n",
      " ticket.jpg\n",
      "'Title of a book .gdoc'\n",
      "'Understanding the Wrap Widget in Flutter.gslides'\n",
      "'Unofficial Transcript_SD-25562.pdf'\n",
      "'Untitled document (10).gdoc'\n",
      "'Untitled document (11).gdoc'\n",
      "'Untitled document (12).gdoc'\n",
      "'Untitled document (13).gdoc'\n",
      "'Untitled document (14).gdoc'\n",
      "'Untitled document (15).gdoc'\n",
      "'Untitled document (16).gdoc'\n",
      "'Untitled document (17).gdoc'\n",
      "'Untitled document (18).gdoc'\n",
      "'Untitled document (19).gdoc'\n",
      "'Untitled document (1).gdoc'\n",
      "'Untitled document (20).gdoc'\n",
      "'Untitled document (21).gdoc'\n",
      "'Untitled document (22).gdoc'\n",
      "'Untitled document (23).gdoc'\n",
      "'Untitled document (24).gdoc'\n",
      "'Untitled document (25).gdoc'\n",
      "'Untitled document (26).gdoc'\n",
      "'Untitled document (27).gdoc'\n",
      "'Untitled document (28).gdoc'\n",
      "'Untitled document (29).gdoc'\n",
      "'Untitled document (2).gdoc'\n",
      "'Untitled document (30).gdoc'\n",
      "'Untitled document (31).gdoc'\n",
      "'Untitled document (32).gdoc'\n",
      "'Untitled document (33).gdoc'\n",
      "'Untitled document (34).gdoc'\n",
      "'Untitled document (35).gdoc'\n",
      "'Untitled document (36).gdoc'\n",
      "'Untitled document (37).gdoc'\n",
      "'Untitled document (38).gdoc'\n",
      "'Untitled document (39).gdoc'\n",
      "'Untitled document (3).gdoc'\n",
      "'Untitled document (40).gdoc'\n",
      "'Untitled document (41).gdoc'\n",
      "'Untitled document (42).gdoc'\n",
      "'Untitled document (43).gdoc'\n",
      "'Untitled document (44).gdoc'\n",
      "'Untitled document (45).gdoc'\n",
      "'Untitled document (46).gdoc'\n",
      "'Untitled document (47).gdoc'\n",
      "'Untitled document (48).gdoc'\n",
      "'Untitled document (49).gdoc'\n",
      "'Untitled document (4).gdoc'\n",
      "'Untitled document (50).gdoc'\n",
      "'Untitled document (51).gdoc'\n",
      "'Untitled document (52).gdoc'\n",
      "'Untitled document (53).gdoc'\n",
      "'Untitled document (54).gdoc'\n",
      "'Untitled document (55).gdoc'\n",
      "'Untitled document (56).gdoc'\n",
      "'Untitled document (57).gdoc'\n",
      "'Untitled document (58).gdoc'\n",
      "'Untitled document (59).gdoc'\n",
      "'Untitled document (5).gdoc'\n",
      "'Untitled document (60).gdoc'\n",
      "'Untitled document (61).gdoc'\n",
      "'Untitled document (62).gdoc'\n",
      "'Untitled document (63).gdoc'\n",
      "'Untitled document (64).gdoc'\n",
      "'Untitled document (65).gdoc'\n",
      "'Untitled document (66).gdoc'\n",
      "'Untitled document (67).gdoc'\n",
      "'Untitled document (68).gdoc'\n",
      "'Untitled document (69).gdoc'\n",
      "'Untitled document (6).gdoc'\n",
      "'Untitled document (70).gdoc'\n",
      "'Untitled document (71).gdoc'\n",
      "'Untitled document (72).gdoc'\n",
      "'Untitled document (73).gdoc'\n",
      "'Untitled document (74).gdoc'\n",
      "'Untitled document (75).gdoc'\n",
      "'Untitled document (76).gdoc'\n",
      "'Untitled document (77).gdoc'\n",
      "'Untitled document (78).gdoc'\n",
      "'Untitled document (79).gdoc'\n",
      "'Untitled document (7).gdoc'\n",
      "'Untitled document (80).gdoc'\n",
      "'Untitled document (81).gdoc'\n",
      "'Untitled document (82).gdoc'\n",
      "'Untitled document (83).gdoc'\n",
      "'Untitled document (84).gdoc'\n",
      "'Untitled document (85).gdoc'\n",
      "'Untitled document (86).gdoc'\n",
      "'Untitled document (87).gdoc'\n",
      "'Untitled document (88).gdoc'\n",
      "'Untitled document (8).gdoc'\n",
      "'Untitled document (9).gdoc'\n",
      "'Untitled document.gdoc'\n",
      "'Untitled form (1).gform'\n",
      "'Untitled form (2).gform'\n",
      "'Untitled form.gform'\n",
      "'Untitled presentation (1).gslides'\n",
      "'Untitled presentation.gslides'\n",
      " VID-20250207-WA0007.mp4\n",
      " visa.pdf\n",
      "'VitaSure Full Website Content Document.gdoc'\n",
      "'VitaSure Project Proposal.gdoc'\n",
      "'VitaSure Project Proposal.pdf'\n",
      "'VitaSure Software Requirements Specification (SRS).gdoc'\n",
      " wandb\n",
      "'Web Development Project Report.gdoc'\n",
      "'What Is a Graph Database?.gslides'\n",
      "'World Refugee Day 2025 Report  .gdoc'\n",
      "\" Y1T1  Kanisa's Learning Processes Module Summative.gdoc\"\n",
      "'Zeraki application.gdoc'\n"
     ]
    }
   ],
   "source": [
    "from google.colab import drive\n",
    "drive.mount('/content/drive')  # if not already mounted\n",
    "\n",
    "!pwd  # prints current directory\n",
    "!ls /content/drive/MyDrive\n"
   ]
  },
  {
   "cell_type": "code",
   "execution_count": 28,
   "metadata": {
    "colab": {
     "base_uri": "https://localhost:8080/"
    },
    "executionInfo": {
     "elapsed": 9544,
     "status": "ok",
     "timestamp": 1761653931234,
     "user": {
      "displayName": "Kanisa Thiak",
      "userId": "11456701695554532163"
     },
     "user_tz": -120
    },
    "id": "rkfEshrOwYII",
    "outputId": "9fc14c26-e6cd-4a4c-bc6a-f06153e217c0"
   },
   "outputs": [
    {
     "name": "stdout",
     "output_type": "stream",
     "text": [
      "/content/drive/MyDrive/Colab Notebooks/chat.ipynb\n"
     ]
    }
   ],
   "source": [
    "!find /content/drive -name \"chat.ipynb\"\n"
   ]
  },
  {
   "cell_type": "code",
   "execution_count": 30,
   "metadata": {
    "colab": {
     "base_uri": "https://localhost:8080/"
    },
    "executionInfo": {
     "elapsed": 767,
     "status": "ok",
     "timestamp": 1761654186020,
     "user": {
      "displayName": "Kanisa Thiak",
      "userId": "11456701695554532163"
     },
     "user_tz": -120
    },
    "id": "4uIC4N49uJ35",
    "outputId": "926ecc50-8ec2-4987-8b86-c26ca0518a12"
   },
   "outputs": [
    {
     "name": "stdout",
     "output_type": "stream",
     "text": [
      "✅ Cleaned notebook saved to: /content/drive/MyDrive/Colab Notebooks/chat_clean.ipynb\n"
     ]
    }
   ],
   "source": [
    "import nbformat\n",
    "\n",
    "# Update this with the actual name of your notebook file\n",
    "# Using the full path found by the user in Google Drive's 'Colab Notebooks' folder\n",
    "filename = \"/content/drive/MyDrive/Colab Notebooks/chat.ipynb\"\n",
    "\n",
    "with open(filename, \"r\") as f:\n",
    "    nb = nbformat.read(f, as_version=4)\n",
    "\n",
    "if \"widgets\" in nb.metadata:\n",
    "    del nb.metadata[\"widgets\"]\n",
    "\n",
    "with open(filename, \"w\") as f:\n",
    "    nbformat.write(nb, f)\n",
    "\n",
    "print(\"✅ Notebook metadata cleaned and saved:\", filename)"
   ]
  }
 ],
 "metadata": {
  "accelerator": "GPU",
  "colab": {
   "authorship_tag": "ABX9TyPsV6rgkZ7D4e510g5DUBCt",
   "gpuType": "T4",
   "provenance": []
  },
  "kernelspec": {
   "display_name": "Python 3",
   "name": "python3"
  },
  "language_info": {
   "name": "python"
  }
 },
 "nbformat": 4,
 "nbformat_minor": 0
}
